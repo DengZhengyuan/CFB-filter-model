{
  "cells": [
    {
      "cell_type": "markdown",
      "metadata": {
        "id": "view-in-github",
        "colab_type": "text"
      },
      "source": [
        "<a href=\"https://colab.research.google.com/github/DengZhengyuan/CFB-filter-model/blob/main/Training_by_TensorFlow.ipynb\" target=\"_parent\"><img src=\"https://colab.research.google.com/assets/colab-badge.svg\" alt=\"Open In Colab\"/></a>"
      ]
    },
    {
      "cell_type": "markdown",
      "metadata": {
        "id": "bAjjCdDvKzZS"
      },
      "source": [
        "# Training by TensorFlow 2D\n",
        "\n"
      ]
    },
    {
      "cell_type": "code",
      "execution_count": null,
      "metadata": {
        "colab": {
          "base_uri": "https://localhost:8080/"
        },
        "id": "G5fi2CliDx55",
        "outputId": "4ea20b60-0b6a-43d7-a9d1-b7ee6f1264cf"
      },
      "outputs": [
        {
          "name": "stdout",
          "output_type": "stream",
          "text": [
            "Once deleted, variables cannot be recovered. Proceed (y/[n])? y\n"
          ]
        }
      ],
      "source": [
        "%reset"
      ]
    },
    {
      "cell_type": "markdown",
      "metadata": {
        "id": "NB0ROfwnm2tw"
      },
      "source": [
        "## Chemical reaction coefficient"
      ]
    },
    {
      "cell_type": "markdown",
      "metadata": {
        "id": "hJ0eWbnqK9fB"
      },
      "source": [
        "### Packages"
      ]
    },
    {
      "cell_type": "code",
      "execution_count": 1,
      "metadata": {
        "colab": {
          "base_uri": "https://localhost:8080/"
        },
        "id": "hUESkm2fMzc2",
        "outputId": "11556c75-73bb-421e-8c86-4c7e98c4c3e9"
      },
      "outputs": [
        {
          "output_type": "stream",
          "name": "stdout",
          "text": [
            "2.8.2\n",
            "Mounted at /content/drive\n"
          ]
        }
      ],
      "source": [
        "import pathlib\n",
        "\n",
        "import matplotlib.pyplot as plt\n",
        "import pandas as pd\n",
        "import csv\n",
        "import numpy as np\n",
        "import seaborn as sns\n",
        "\n",
        "import tensorflow as tf\n",
        "\n",
        "from tensorflow import keras\n",
        "from tensorflow.keras import layers\n",
        "\n",
        "print(tf.__version__)\n",
        "\n",
        "# access to Google Drive\n",
        "from google.colab import drive\n",
        "drive.mount('/content/drive')"
      ]
    },
    {
      "cell_type": "code",
      "source": [
        "import os \n",
        "path = '/content/drive/MyDrive/database_comp'\n",
        "os.chdir(path)\n",
        "os.getcwd()"
      ],
      "metadata": {
        "colab": {
          "base_uri": "https://localhost:8080/",
          "height": 35
        },
        "id": "bF5auED28ump",
        "outputId": "b699a2c1-3d08-454e-c0a1-aa5d5635033c"
      },
      "execution_count": 2,
      "outputs": [
        {
          "output_type": "execute_result",
          "data": {
            "text/plain": [
              "'/content/drive/MyDrive/database_comp'"
            ],
            "application/vnd.google.colaboratory.intrinsic+json": {
              "type": "string"
            }
          },
          "metadata": {},
          "execution_count": 2
        }
      ]
    },
    {
      "cell_type": "markdown",
      "metadata": {
        "id": "YRmA-WOuLCGB"
      },
      "source": [
        "### Data structure and import"
      ]
    },
    {
      "cell_type": "code",
      "execution_count": 4,
      "metadata": {
        "colab": {
          "base_uri": "https://localhost:8080/",
          "height": 206
        },
        "id": "-AmiUWWkNHM8",
        "outputId": "63cb0741-0dd9-49de-cb59-03b01e7c70e3"
      },
      "outputs": [
        {
          "output_type": "execute_result",
          "data": {
            "text/plain": [
              "               nt      avEs   gradXEs   gradYEs    gradXP    gradYP   avUslip  \\\n",
              "1284876  0.174223 -0.173390 -0.441645  1.957423  0.015056  0.090294 -0.162912   \n",
              "1284877 -0.791513 -0.853197 -0.026476 -0.054315  0.000946  0.216400  0.132084   \n",
              "1284878  1.967733 -0.334541  0.274698  0.463396 -2.871167 -1.030904  2.989692   \n",
              "1284879  1.967733  1.134116 -1.941494  0.314613 -0.160387  0.262527 -0.617428   \n",
              "1284880  0.174223 -0.171376  0.895501  0.324889 -0.064056  0.209285 -0.546373   \n",
              "\n",
              "         gradXUslip  gradYUslip      avOz   gradXOz   gradYOz    coefHr  \n",
              "1284876    0.862956   -0.509480  1.692558  0.020215 -1.678247  0.573422  \n",
              "1284877    0.584071    0.390582  1.636363 -0.348172 -0.156588  0.666976  \n",
              "1284878   -1.546551   -1.289201 -0.963152  0.127011 -0.047242  0.655583  \n",
              "1284879    0.058685    0.001988 -0.962589  0.787665 -0.131815  0.409220  \n",
              "1284880   -0.135485    0.047602  0.239942 -1.090691  0.042415  0.628108  "
            ],
            "text/html": [
              "\n",
              "  <div id=\"df-4321982b-b76f-4fe0-b5d9-6cb1a215c311\">\n",
              "    <div class=\"colab-df-container\">\n",
              "      <div>\n",
              "<style scoped>\n",
              "    .dataframe tbody tr th:only-of-type {\n",
              "        vertical-align: middle;\n",
              "    }\n",
              "\n",
              "    .dataframe tbody tr th {\n",
              "        vertical-align: top;\n",
              "    }\n",
              "\n",
              "    .dataframe thead th {\n",
              "        text-align: right;\n",
              "    }\n",
              "</style>\n",
              "<table border=\"1\" class=\"dataframe\">\n",
              "  <thead>\n",
              "    <tr style=\"text-align: right;\">\n",
              "      <th></th>\n",
              "      <th>nt</th>\n",
              "      <th>avEs</th>\n",
              "      <th>gradXEs</th>\n",
              "      <th>gradYEs</th>\n",
              "      <th>gradXP</th>\n",
              "      <th>gradYP</th>\n",
              "      <th>avUslip</th>\n",
              "      <th>gradXUslip</th>\n",
              "      <th>gradYUslip</th>\n",
              "      <th>avOz</th>\n",
              "      <th>gradXOz</th>\n",
              "      <th>gradYOz</th>\n",
              "      <th>coefHr</th>\n",
              "    </tr>\n",
              "  </thead>\n",
              "  <tbody>\n",
              "    <tr>\n",
              "      <th>1284876</th>\n",
              "      <td>0.174223</td>\n",
              "      <td>-0.173390</td>\n",
              "      <td>-0.441645</td>\n",
              "      <td>1.957423</td>\n",
              "      <td>0.015056</td>\n",
              "      <td>0.090294</td>\n",
              "      <td>-0.162912</td>\n",
              "      <td>0.862956</td>\n",
              "      <td>-0.509480</td>\n",
              "      <td>1.692558</td>\n",
              "      <td>0.020215</td>\n",
              "      <td>-1.678247</td>\n",
              "      <td>0.573422</td>\n",
              "    </tr>\n",
              "    <tr>\n",
              "      <th>1284877</th>\n",
              "      <td>-0.791513</td>\n",
              "      <td>-0.853197</td>\n",
              "      <td>-0.026476</td>\n",
              "      <td>-0.054315</td>\n",
              "      <td>0.000946</td>\n",
              "      <td>0.216400</td>\n",
              "      <td>0.132084</td>\n",
              "      <td>0.584071</td>\n",
              "      <td>0.390582</td>\n",
              "      <td>1.636363</td>\n",
              "      <td>-0.348172</td>\n",
              "      <td>-0.156588</td>\n",
              "      <td>0.666976</td>\n",
              "    </tr>\n",
              "    <tr>\n",
              "      <th>1284878</th>\n",
              "      <td>1.967733</td>\n",
              "      <td>-0.334541</td>\n",
              "      <td>0.274698</td>\n",
              "      <td>0.463396</td>\n",
              "      <td>-2.871167</td>\n",
              "      <td>-1.030904</td>\n",
              "      <td>2.989692</td>\n",
              "      <td>-1.546551</td>\n",
              "      <td>-1.289201</td>\n",
              "      <td>-0.963152</td>\n",
              "      <td>0.127011</td>\n",
              "      <td>-0.047242</td>\n",
              "      <td>0.655583</td>\n",
              "    </tr>\n",
              "    <tr>\n",
              "      <th>1284879</th>\n",
              "      <td>1.967733</td>\n",
              "      <td>1.134116</td>\n",
              "      <td>-1.941494</td>\n",
              "      <td>0.314613</td>\n",
              "      <td>-0.160387</td>\n",
              "      <td>0.262527</td>\n",
              "      <td>-0.617428</td>\n",
              "      <td>0.058685</td>\n",
              "      <td>0.001988</td>\n",
              "      <td>-0.962589</td>\n",
              "      <td>0.787665</td>\n",
              "      <td>-0.131815</td>\n",
              "      <td>0.409220</td>\n",
              "    </tr>\n",
              "    <tr>\n",
              "      <th>1284880</th>\n",
              "      <td>0.174223</td>\n",
              "      <td>-0.171376</td>\n",
              "      <td>0.895501</td>\n",
              "      <td>0.324889</td>\n",
              "      <td>-0.064056</td>\n",
              "      <td>0.209285</td>\n",
              "      <td>-0.546373</td>\n",
              "      <td>-0.135485</td>\n",
              "      <td>0.047602</td>\n",
              "      <td>0.239942</td>\n",
              "      <td>-1.090691</td>\n",
              "      <td>0.042415</td>\n",
              "      <td>0.628108</td>\n",
              "    </tr>\n",
              "  </tbody>\n",
              "</table>\n",
              "</div>\n",
              "      <button class=\"colab-df-convert\" onclick=\"convertToInteractive('df-4321982b-b76f-4fe0-b5d9-6cb1a215c311')\"\n",
              "              title=\"Convert this dataframe to an interactive table.\"\n",
              "              style=\"display:none;\">\n",
              "        \n",
              "  <svg xmlns=\"http://www.w3.org/2000/svg\" height=\"24px\"viewBox=\"0 0 24 24\"\n",
              "       width=\"24px\">\n",
              "    <path d=\"M0 0h24v24H0V0z\" fill=\"none\"/>\n",
              "    <path d=\"M18.56 5.44l.94 2.06.94-2.06 2.06-.94-2.06-.94-.94-2.06-.94 2.06-2.06.94zm-11 1L8.5 8.5l.94-2.06 2.06-.94-2.06-.94L8.5 2.5l-.94 2.06-2.06.94zm10 10l.94 2.06.94-2.06 2.06-.94-2.06-.94-.94-2.06-.94 2.06-2.06.94z\"/><path d=\"M17.41 7.96l-1.37-1.37c-.4-.4-.92-.59-1.43-.59-.52 0-1.04.2-1.43.59L10.3 9.45l-7.72 7.72c-.78.78-.78 2.05 0 2.83L4 21.41c.39.39.9.59 1.41.59.51 0 1.02-.2 1.41-.59l7.78-7.78 2.81-2.81c.8-.78.8-2.07 0-2.86zM5.41 20L4 18.59l7.72-7.72 1.47 1.35L5.41 20z\"/>\n",
              "  </svg>\n",
              "      </button>\n",
              "      \n",
              "  <style>\n",
              "    .colab-df-container {\n",
              "      display:flex;\n",
              "      flex-wrap:wrap;\n",
              "      gap: 12px;\n",
              "    }\n",
              "\n",
              "    .colab-df-convert {\n",
              "      background-color: #E8F0FE;\n",
              "      border: none;\n",
              "      border-radius: 50%;\n",
              "      cursor: pointer;\n",
              "      display: none;\n",
              "      fill: #1967D2;\n",
              "      height: 32px;\n",
              "      padding: 0 0 0 0;\n",
              "      width: 32px;\n",
              "    }\n",
              "\n",
              "    .colab-df-convert:hover {\n",
              "      background-color: #E2EBFA;\n",
              "      box-shadow: 0px 1px 2px rgba(60, 64, 67, 0.3), 0px 1px 3px 1px rgba(60, 64, 67, 0.15);\n",
              "      fill: #174EA6;\n",
              "    }\n",
              "\n",
              "    [theme=dark] .colab-df-convert {\n",
              "      background-color: #3B4455;\n",
              "      fill: #D2E3FC;\n",
              "    }\n",
              "\n",
              "    [theme=dark] .colab-df-convert:hover {\n",
              "      background-color: #434B5C;\n",
              "      box-shadow: 0px 1px 3px 1px rgba(0, 0, 0, 0.15);\n",
              "      filter: drop-shadow(0px 1px 2px rgba(0, 0, 0, 0.3));\n",
              "      fill: #FFFFFF;\n",
              "    }\n",
              "  </style>\n",
              "\n",
              "      <script>\n",
              "        const buttonEl =\n",
              "          document.querySelector('#df-4321982b-b76f-4fe0-b5d9-6cb1a215c311 button.colab-df-convert');\n",
              "        buttonEl.style.display =\n",
              "          google.colab.kernel.accessAllowed ? 'block' : 'none';\n",
              "\n",
              "        async function convertToInteractive(key) {\n",
              "          const element = document.querySelector('#df-4321982b-b76f-4fe0-b5d9-6cb1a215c311');\n",
              "          const dataTable =\n",
              "            await google.colab.kernel.invokeFunction('convertToInteractive',\n",
              "                                                     [key], {});\n",
              "          if (!dataTable) return;\n",
              "\n",
              "          const docLinkHtml = 'Like what you see? Visit the ' +\n",
              "            '<a target=\"_blank\" href=https://colab.research.google.com/notebooks/data_table.ipynb>data table notebook</a>'\n",
              "            + ' to learn more about interactive tables.';\n",
              "          element.innerHTML = '';\n",
              "          dataTable['output_type'] = 'display_data';\n",
              "          await google.colab.output.renderOutput(dataTable, element);\n",
              "          const docLink = document.createElement('div');\n",
              "          docLink.innerHTML = docLinkHtml;\n",
              "          element.appendChild(docLink);\n",
              "        }\n",
              "      </script>\n",
              "    </div>\n",
              "  </div>\n",
              "  "
            ]
          },
          "metadata": {},
          "execution_count": 4
        }
      ],
      "source": [
        "column_names = ['nt', \n",
        "               'avEs', 'gradXEs', 'gradYEs',\n",
        "               'gradXP', 'gradYP',\n",
        "               'avUslip', 'gradXUslip', 'gradYUslip',\n",
        "               'avOz', 'gradXOz', 'gradYOz',\n",
        "               'coefHr'\n",
        "              ]\n",
        "\n",
        "dir_dataset = './database/dataSet_Hr_5663-slt.csv';\n",
        "raw_dataset = pd.read_csv(dir_dataset, names=column_names,\n",
        "                          na_values = \"?\", comment='\\t',\n",
        "                          sep=\",\", skipinitialspace=True)\n",
        "\n",
        "dataset = raw_dataset.copy()\n",
        "dataset.tail()"
      ]
    },
    {
      "cell_type": "code",
      "execution_count": 5,
      "metadata": {
        "id": "PT1nWhpZS6GT"
      },
      "outputs": [],
      "source": [
        "train_dataset = dataset.sample(frac=0.8,random_state=0)\n",
        "test_dataset = dataset.drop(train_dataset.index)\n",
        "train_labels = train_dataset.pop('coefHr')\n",
        "test_labels = test_dataset.pop('coefHr')"
      ]
    },
    {
      "cell_type": "markdown",
      "metadata": {
        "id": "4aad3ciFLOMG"
      },
      "source": [
        "### Netwrok structure"
      ]
    },
    {
      "cell_type": "code",
      "execution_count": 6,
      "metadata": {
        "id": "8Fc07kEzSMXt"
      },
      "outputs": [],
      "source": [
        "def build_model():\n",
        "  model = keras.Sequential([\n",
        "                            layers.Dense(36, activation='tanh', input_shape=[len(train_dataset.keys())]),\n",
        "                            layers.Dense(36, activation='tanh'),\n",
        "                            layers.Dense(36, activation='tanh'),\n",
        "                            layers.Dense(36, activation='tanh'),\n",
        "                            layers.Dense(1, activation='tanh'),\n",
        "                            ])\n",
        "  \n",
        "  initial_learning_rate = 0.0005\n",
        "  lr_schedule = tf.keras.optimizers.schedules.ExponentialDecay(\n",
        "    initial_learning_rate,\n",
        "    decay_steps=100000,\n",
        "    decay_rate=0.96,\n",
        "    staircase=True)\n",
        "  \n",
        "  # loss_huber = tf.keras.losses.Huber(delta=0.2)\n",
        "\n",
        "  model.compile(loss = 'mape',\n",
        "                optimizer = tf.keras.optimizers.Adam(learning_rate=lr_schedule),\n",
        "                metrics=['mape', 'mae', 'mse'])\n",
        "  return model"
      ]
    },
    {
      "cell_type": "code",
      "execution_count": 7,
      "metadata": {
        "colab": {
          "base_uri": "https://localhost:8080/"
        },
        "id": "z9aOgaUFSzza",
        "outputId": "1cc66d1f-c79e-420a-d059-0b566051eab1"
      },
      "outputs": [
        {
          "output_type": "stream",
          "name": "stdout",
          "text": [
            "Model: \"sequential\"\n",
            "_________________________________________________________________\n",
            " Layer (type)                Output Shape              Param #   \n",
            "=================================================================\n",
            " dense (Dense)               (None, 36)                468       \n",
            "                                                                 \n",
            " dense_1 (Dense)             (None, 36)                1332      \n",
            "                                                                 \n",
            " dense_2 (Dense)             (None, 36)                1332      \n",
            "                                                                 \n",
            " dense_3 (Dense)             (None, 36)                1332      \n",
            "                                                                 \n",
            " dense_4 (Dense)             (None, 1)                 37        \n",
            "                                                                 \n",
            "=================================================================\n",
            "Total params: 4,501\n",
            "Trainable params: 4,501\n",
            "Non-trainable params: 0\n",
            "_________________________________________________________________\n"
          ]
        }
      ],
      "source": [
        "model = build_model()\n",
        "model.summary()"
      ]
    },
    {
      "cell_type": "code",
      "execution_count": 8,
      "metadata": {
        "colab": {
          "base_uri": "https://localhost:8080/"
        },
        "id": "svNEywUtTDJM",
        "outputId": "bad250ca-204c-4ed8-9066-7ceea838fcb9"
      },
      "outputs": [
        {
          "output_type": "execute_result",
          "data": {
            "text/plain": [
              "array([[ 0.02759441],\n",
              "       [ 0.02415195],\n",
              "       [ 0.03377324],\n",
              "       [-0.32547548],\n",
              "       [ 0.21902192],\n",
              "       [ 0.2507221 ],\n",
              "       [-0.43154496],\n",
              "       [-0.10483457],\n",
              "       [-0.54395235],\n",
              "       [ 0.1504086 ]], dtype=float32)"
            ]
          },
          "metadata": {},
          "execution_count": 8
        }
      ],
      "source": [
        "example_batch = train_dataset[:10]\n",
        "example_result = model.predict(example_batch)\n",
        "example_result"
      ]
    },
    {
      "cell_type": "markdown",
      "metadata": {
        "id": "bg-i9eQtiE8C"
      },
      "source": [
        "#### Training"
      ]
    },
    {
      "cell_type": "code",
      "execution_count": null,
      "metadata": {
        "id": "6Rg3dAV_Xp_O",
        "colab": {
          "base_uri": "https://localhost:8080/"
        },
        "outputId": "cd1b6478-b8cc-40ec-de01-54d0ea7e5b49"
      },
      "outputs": [
        {
          "output_type": "stream",
          "name": "stdout",
          "text": [
            "\n",
            "..........\n",
            "..........\n",
            "..........\n",
            "..........\n",
            "..........\n",
            "..........\n",
            "."
          ]
        }
      ],
      "source": [
        "# 通过为每个完成的时期打印一个点来显示训练进度\n",
        "class PrintDot(keras.callbacks.Callback):\n",
        "  def on_epoch_end(self, epoch, logs):\n",
        "    if epoch % 10 == 0: print('')\n",
        "    print('.', end='')\n",
        "\n",
        "EPOCHS = 250\n",
        "\n",
        "history = model.fit(\n",
        "  train_dataset, \n",
        "  train_labels,\n",
        "  epochs=EPOCHS, \n",
        "  validation_split = 0.2, \n",
        "  verbose=0,\n",
        "  batch_size=128,\n",
        "  callbacks=[PrintDot()])"
      ]
    },
    {
      "cell_type": "code",
      "execution_count": null,
      "metadata": {
        "id": "bKmc4sHKYRHc"
      },
      "outputs": [],
      "source": [
        "hist = pd.DataFrame(history.history)\n",
        "hist['epoch'] = history.epoch\n",
        "hist.tail(10)"
      ]
    },
    {
      "cell_type": "code",
      "execution_count": null,
      "metadata": {
        "id": "TotHBSaGYZG4"
      },
      "outputs": [],
      "source": [
        "def plot_history(history):\n",
        "  hist = pd.DataFrame(history.history)\n",
        "  hist['epoch'] = history.epoch\n",
        "\n",
        "  plt.figure()\n",
        "  plt.xlabel('Epoch')\n",
        "  plt.ylabel('MAPE of $H_r$ [%]')\n",
        "  plt.plot(hist['epoch'], hist['mape'],\n",
        "           label='Train Error')\n",
        "  plt.plot(hist['epoch'], hist['val_mape'],\n",
        "           label = 'Val Error')\n",
        "  plt.ylim([2.,5])\n",
        "  plt.legend()\n",
        "\n",
        "  plt.figure()\n",
        "  plt.xlabel('Epoch')\n",
        "  plt.ylabel('MAE of $H_r$ [-]')\n",
        "  plt.plot(hist['epoch'], hist['mae'],\n",
        "           label='Train Error')\n",
        "  plt.plot(hist['epoch'], hist['val_mae'],\n",
        "           label = 'Val Error')\n",
        "  plt.ylim([0.01, 0.03])\n",
        "  plt.legend()\n",
        "  plt.show()\n",
        "\n",
        "\n",
        "plot_history(history)"
      ]
    },
    {
      "cell_type": "code",
      "execution_count": null,
      "metadata": {
        "id": "fdv6cI4vaXG-"
      },
      "outputs": [],
      "source": [
        "test_predictions = model.predict(test_dataset).flatten()\n",
        "\n",
        "plt.scatter(test_labels, test_predictions, s=0.05, alpha=0.2)\n",
        "plt.xlabel('Actural Values of Hr [-]')\n",
        "plt.ylabel('Predictions of Hr [-]')\n",
        "plt.axis('equal')\n",
        "plt.axis('square')\n",
        "plt.xlim([0,1])\n",
        "plt.ylim([0,1])\n",
        "_ = plt.plot([-100, 100], [-100, 100])"
      ]
    },
    {
      "cell_type": "code",
      "execution_count": null,
      "metadata": {
        "id": "_kW8N0eIajj5"
      },
      "outputs": [],
      "source": [
        "error = (test_predictions - test_labels)/test_labels*100\n",
        "plt.hist(error, bins = 200)\n",
        "plt.xlim([-20,20])\n",
        "plt.xlabel(\"Prediction Percentage Error [%]\")\n",
        "_ = plt.ylabel(\"Count\")"
      ]
    },
    {
      "cell_type": "markdown",
      "metadata": {
        "id": "Xk2HrskdCYPR"
      },
      "source": [
        "### Export the model"
      ]
    },
    {
      "cell_type": "code",
      "execution_count": null,
      "metadata": {
        "id": "0c2ojDZBCXRo"
      },
      "outputs": [],
      "source": [
        "model.save('./saved_model/model_hr-5663-slt.h5')"
      ]
    },
    {
      "cell_type": "markdown",
      "metadata": {
        "id": "GwMC_did7bjD"
      },
      "source": [
        "#### Write some results to csv"
      ]
    },
    {
      "cell_type": "code",
      "execution_count": null,
      "metadata": {
        "id": "syidl1p01zYA"
      },
      "outputs": [],
      "source": [
        "# export the actural and prediction values\n",
        "data_export = np.transpose([test_labels.values, test_predictions])\n",
        "\n",
        "with open('./post_process/ac-pr-5663-slt.csv', 'w', encoding='UTF8', newline='') as f:\n",
        "    writer = csv.writer(f)\n",
        "    writer.writerows(data_export)"
      ]
    },
    {
      "cell_type": "code",
      "execution_count": null,
      "metadata": {
        "id": "5In3a9XL6SsK"
      },
      "outputs": [],
      "source": [
        "df = pd.DataFrame(history.history)\n",
        "df.to_csv('./post_process/history-5663-slt.csv')"
      ]
    },
    {
      "cell_type": "markdown",
      "metadata": {
        "id": "gR9UCfpvCOM-"
      },
      "source": [
        "## Drag coefficient"
      ]
    },
    {
      "cell_type": "markdown",
      "metadata": {
        "id": "0P7VXK1CCWJA"
      },
      "source": [
        "### Packages"
      ]
    },
    {
      "cell_type": "code",
      "execution_count": null,
      "metadata": {
        "colab": {
          "base_uri": "https://localhost:8080/"
        },
        "id": "ihDKONNdCNCs",
        "outputId": "12d7ae40-4c6a-41d0-8d2d-43c727157e65"
      },
      "outputs": [
        {
          "output_type": "stream",
          "name": "stdout",
          "text": [
            "2.8.2\n",
            "Drive already mounted at /content/drive; to attempt to forcibly remount, call drive.mount(\"/content/drive\", force_remount=True).\n"
          ]
        }
      ],
      "source": [
        "import pathlib\n",
        "\n",
        "import matplotlib.pyplot as plt\n",
        "import pandas as pd\n",
        "import csv\n",
        "import numpy as np\n",
        "import seaborn as sns\n",
        "\n",
        "import tensorflow as tf\n",
        "\n",
        "from tensorflow import keras\n",
        "from tensorflow.keras import layers\n",
        "\n",
        "print(tf.__version__)\n",
        "\n",
        "# access to Google Drive\n",
        "from google.colab import drive\n",
        "drive.mount('/content/drive')"
      ]
    },
    {
      "cell_type": "code",
      "source": [
        "import os \n",
        "path = '/content/drive/MyDrive/ML_model-2D_CoLab-0.63'\n",
        "os.chdir(path)\n",
        "os.getcwd()"
      ],
      "metadata": {
        "colab": {
          "base_uri": "https://localhost:8080/",
          "height": 35
        },
        "id": "NwXOG5ANq0xJ",
        "outputId": "3cba40d0-90cb-4445-f21a-4e2ff608e83d"
      },
      "execution_count": null,
      "outputs": [
        {
          "output_type": "execute_result",
          "data": {
            "text/plain": [
              "'/content/drive/MyDrive/ML_model-2D_CoLab-0.63'"
            ],
            "application/vnd.google.colaboratory.intrinsic+json": {
              "type": "string"
            }
          },
          "metadata": {},
          "execution_count": 15
        }
      ]
    },
    {
      "cell_type": "markdown",
      "metadata": {
        "id": "ftGzK-hECrGf"
      },
      "source": [
        "### Data structure and import"
      ]
    },
    {
      "cell_type": "code",
      "execution_count": null,
      "metadata": {
        "id": "jUJKLSZDCoRO",
        "colab": {
          "base_uri": "https://localhost:8080/",
          "height": 206
        },
        "outputId": "da4e9c2e-cfbd-4d9f-dcaf-90578578d63e"
      },
      "outputs": [
        {
          "output_type": "execute_result",
          "data": {
            "text/plain": [
              "               nt        Es     dEsdx     dEsdy      dPdx      dPdy    UslipY  \\\n",
              "1967425  0.375485  0.679955 -0.295610  0.057633 -0.083702 -0.709582  2.180156   \n",
              "1967426  1.942047 -0.652910  0.066809 -0.105500  0.000662  0.015463  0.282451   \n",
              "1967427  1.942047 -0.378503  0.198587 -0.603550  0.007094  0.019387 -0.613271   \n",
              "1967428  0.375485 -0.614147 -0.073162 -0.047253  0.001086  0.017732 -0.408923   \n",
              "1967429  0.375485 -0.545802 -0.479216  0.265181 -0.003761  0.012959  0.019092   \n",
              "\n",
              "         dUslipYdx  dUslipYdy    coefHd  \n",
              "1967425   0.817134  -0.779876  0.670628  \n",
              "1967426  -0.986664  -0.416844  0.593542  \n",
              "1967427  -0.358241  -0.819541  0.770756  \n",
              "1967428   0.341902  -0.365384  0.461198  \n",
              "1967429   0.034758   0.987733  0.454433  "
            ],
            "text/html": [
              "\n",
              "  <div id=\"df-992ce9f5-52ee-4a88-b136-52f63cada606\">\n",
              "    <div class=\"colab-df-container\">\n",
              "      <div>\n",
              "<style scoped>\n",
              "    .dataframe tbody tr th:only-of-type {\n",
              "        vertical-align: middle;\n",
              "    }\n",
              "\n",
              "    .dataframe tbody tr th {\n",
              "        vertical-align: top;\n",
              "    }\n",
              "\n",
              "    .dataframe thead th {\n",
              "        text-align: right;\n",
              "    }\n",
              "</style>\n",
              "<table border=\"1\" class=\"dataframe\">\n",
              "  <thead>\n",
              "    <tr style=\"text-align: right;\">\n",
              "      <th></th>\n",
              "      <th>nt</th>\n",
              "      <th>Es</th>\n",
              "      <th>dEsdx</th>\n",
              "      <th>dEsdy</th>\n",
              "      <th>dPdx</th>\n",
              "      <th>dPdy</th>\n",
              "      <th>UslipY</th>\n",
              "      <th>dUslipYdx</th>\n",
              "      <th>dUslipYdy</th>\n",
              "      <th>coefHd</th>\n",
              "    </tr>\n",
              "  </thead>\n",
              "  <tbody>\n",
              "    <tr>\n",
              "      <th>1967425</th>\n",
              "      <td>0.375485</td>\n",
              "      <td>0.679955</td>\n",
              "      <td>-0.295610</td>\n",
              "      <td>0.057633</td>\n",
              "      <td>-0.083702</td>\n",
              "      <td>-0.709582</td>\n",
              "      <td>2.180156</td>\n",
              "      <td>0.817134</td>\n",
              "      <td>-0.779876</td>\n",
              "      <td>0.670628</td>\n",
              "    </tr>\n",
              "    <tr>\n",
              "      <th>1967426</th>\n",
              "      <td>1.942047</td>\n",
              "      <td>-0.652910</td>\n",
              "      <td>0.066809</td>\n",
              "      <td>-0.105500</td>\n",
              "      <td>0.000662</td>\n",
              "      <td>0.015463</td>\n",
              "      <td>0.282451</td>\n",
              "      <td>-0.986664</td>\n",
              "      <td>-0.416844</td>\n",
              "      <td>0.593542</td>\n",
              "    </tr>\n",
              "    <tr>\n",
              "      <th>1967427</th>\n",
              "      <td>1.942047</td>\n",
              "      <td>-0.378503</td>\n",
              "      <td>0.198587</td>\n",
              "      <td>-0.603550</td>\n",
              "      <td>0.007094</td>\n",
              "      <td>0.019387</td>\n",
              "      <td>-0.613271</td>\n",
              "      <td>-0.358241</td>\n",
              "      <td>-0.819541</td>\n",
              "      <td>0.770756</td>\n",
              "    </tr>\n",
              "    <tr>\n",
              "      <th>1967428</th>\n",
              "      <td>0.375485</td>\n",
              "      <td>-0.614147</td>\n",
              "      <td>-0.073162</td>\n",
              "      <td>-0.047253</td>\n",
              "      <td>0.001086</td>\n",
              "      <td>0.017732</td>\n",
              "      <td>-0.408923</td>\n",
              "      <td>0.341902</td>\n",
              "      <td>-0.365384</td>\n",
              "      <td>0.461198</td>\n",
              "    </tr>\n",
              "    <tr>\n",
              "      <th>1967429</th>\n",
              "      <td>0.375485</td>\n",
              "      <td>-0.545802</td>\n",
              "      <td>-0.479216</td>\n",
              "      <td>0.265181</td>\n",
              "      <td>-0.003761</td>\n",
              "      <td>0.012959</td>\n",
              "      <td>0.019092</td>\n",
              "      <td>0.034758</td>\n",
              "      <td>0.987733</td>\n",
              "      <td>0.454433</td>\n",
              "    </tr>\n",
              "  </tbody>\n",
              "</table>\n",
              "</div>\n",
              "      <button class=\"colab-df-convert\" onclick=\"convertToInteractive('df-992ce9f5-52ee-4a88-b136-52f63cada606')\"\n",
              "              title=\"Convert this dataframe to an interactive table.\"\n",
              "              style=\"display:none;\">\n",
              "        \n",
              "  <svg xmlns=\"http://www.w3.org/2000/svg\" height=\"24px\"viewBox=\"0 0 24 24\"\n",
              "       width=\"24px\">\n",
              "    <path d=\"M0 0h24v24H0V0z\" fill=\"none\"/>\n",
              "    <path d=\"M18.56 5.44l.94 2.06.94-2.06 2.06-.94-2.06-.94-.94-2.06-.94 2.06-2.06.94zm-11 1L8.5 8.5l.94-2.06 2.06-.94-2.06-.94L8.5 2.5l-.94 2.06-2.06.94zm10 10l.94 2.06.94-2.06 2.06-.94-2.06-.94-.94-2.06-.94 2.06-2.06.94z\"/><path d=\"M17.41 7.96l-1.37-1.37c-.4-.4-.92-.59-1.43-.59-.52 0-1.04.2-1.43.59L10.3 9.45l-7.72 7.72c-.78.78-.78 2.05 0 2.83L4 21.41c.39.39.9.59 1.41.59.51 0 1.02-.2 1.41-.59l7.78-7.78 2.81-2.81c.8-.78.8-2.07 0-2.86zM5.41 20L4 18.59l7.72-7.72 1.47 1.35L5.41 20z\"/>\n",
              "  </svg>\n",
              "      </button>\n",
              "      \n",
              "  <style>\n",
              "    .colab-df-container {\n",
              "      display:flex;\n",
              "      flex-wrap:wrap;\n",
              "      gap: 12px;\n",
              "    }\n",
              "\n",
              "    .colab-df-convert {\n",
              "      background-color: #E8F0FE;\n",
              "      border: none;\n",
              "      border-radius: 50%;\n",
              "      cursor: pointer;\n",
              "      display: none;\n",
              "      fill: #1967D2;\n",
              "      height: 32px;\n",
              "      padding: 0 0 0 0;\n",
              "      width: 32px;\n",
              "    }\n",
              "\n",
              "    .colab-df-convert:hover {\n",
              "      background-color: #E2EBFA;\n",
              "      box-shadow: 0px 1px 2px rgba(60, 64, 67, 0.3), 0px 1px 3px 1px rgba(60, 64, 67, 0.15);\n",
              "      fill: #174EA6;\n",
              "    }\n",
              "\n",
              "    [theme=dark] .colab-df-convert {\n",
              "      background-color: #3B4455;\n",
              "      fill: #D2E3FC;\n",
              "    }\n",
              "\n",
              "    [theme=dark] .colab-df-convert:hover {\n",
              "      background-color: #434B5C;\n",
              "      box-shadow: 0px 1px 3px 1px rgba(0, 0, 0, 0.15);\n",
              "      filter: drop-shadow(0px 1px 2px rgba(0, 0, 0, 0.3));\n",
              "      fill: #FFFFFF;\n",
              "    }\n",
              "  </style>\n",
              "\n",
              "      <script>\n",
              "        const buttonEl =\n",
              "          document.querySelector('#df-992ce9f5-52ee-4a88-b136-52f63cada606 button.colab-df-convert');\n",
              "        buttonEl.style.display =\n",
              "          google.colab.kernel.accessAllowed ? 'block' : 'none';\n",
              "\n",
              "        async function convertToInteractive(key) {\n",
              "          const element = document.querySelector('#df-992ce9f5-52ee-4a88-b136-52f63cada606');\n",
              "          const dataTable =\n",
              "            await google.colab.kernel.invokeFunction('convertToInteractive',\n",
              "                                                     [key], {});\n",
              "          if (!dataTable) return;\n",
              "\n",
              "          const docLinkHtml = 'Like what you see? Visit the ' +\n",
              "            '<a target=\"_blank\" href=https://colab.research.google.com/notebooks/data_table.ipynb>data table notebook</a>'\n",
              "            + ' to learn more about interactive tables.';\n",
              "          element.innerHTML = '';\n",
              "          dataTable['output_type'] = 'display_data';\n",
              "          await google.colab.output.renderOutput(dataTable, element);\n",
              "          const docLink = document.createElement('div');\n",
              "          docLink.innerHTML = docLinkHtml;\n",
              "          element.appendChild(docLink);\n",
              "        }\n",
              "      </script>\n",
              "    </div>\n",
              "  </div>\n",
              "  "
            ]
          },
          "metadata": {},
          "execution_count": 38
        }
      ],
      "source": [
        "column_names = ['nt',\n",
        "               'Es','dEsdx','dEsdy', \n",
        "               'dPdx','dPdy',\n",
        "               'UslipY','dUslipYdx','dUslipYdy',\n",
        "               'coefHd']\n",
        "\n",
        "dir_dataset = './dataSet_Hd.csv';\n",
        "raw_dataset = pd.read_csv(dir_dataset, names=column_names,\n",
        "                          na_values = \"?\", comment='\\t',\n",
        "                          sep=\",\", skipinitialspace=True)\n",
        "\n",
        "dataset = raw_dataset.copy()\n",
        "dataset.tail()"
      ]
    },
    {
      "cell_type": "code",
      "execution_count": null,
      "metadata": {
        "id": "fsR79yKcCy8l"
      },
      "outputs": [],
      "source": [
        "train_dataset = dataset.sample(frac=0.8,random_state=0)\n",
        "test_dataset = dataset.drop(train_dataset.index)\n",
        "train_labels = train_dataset.pop('coefHd')\n",
        "test_labels = test_dataset.pop('coefHd')"
      ]
    },
    {
      "cell_type": "markdown",
      "metadata": {
        "id": "PBjx9TQ7C7ax"
      },
      "source": [
        "### Neural network structure"
      ]
    },
    {
      "cell_type": "code",
      "execution_count": null,
      "metadata": {
        "id": "uFyaT_r2DAKt"
      },
      "outputs": [],
      "source": [
        "def build_model():\n",
        "  model = keras.Sequential([\n",
        "                            layers.Dense(240, activation='tanh', input_shape=[len(train_dataset.keys())]),\n",
        "                            layers.Dense(120, activation='tanh'),\n",
        "                            layers.Dense(60, activation='tanh'),\n",
        "                            layers.Dense(60, activation='tanh'),\n",
        "                            layers.Dense(60, activation='tanh'),\n",
        "                            layers.Dense(60, activation='tanh'),\n",
        "                            layers.Dense(1, activation='tanh'),\n",
        "                            ])\n",
        "  \n",
        "  initial_learning_rate = 0.0005\n",
        "  lr_schedule = tf.keras.optimizers.schedules.ExponentialDecay(\n",
        "    initial_learning_rate,\n",
        "    decay_steps=100000,\n",
        "    decay_rate=0.96,\n",
        "    staircase=True)\n",
        "\n",
        "  loss_huber = tf.keras.losses.Huber(delta=0.25)\n",
        "  model.compile(loss = loss_huber,\n",
        "                optimizer = tf.keras.optimizers.Adam(learning_rate=lr_schedule),\n",
        "                metrics=['mape', 'mae', 'mse'])\n",
        "  return model"
      ]
    },
    {
      "cell_type": "code",
      "execution_count": null,
      "metadata": {
        "colab": {
          "base_uri": "https://localhost:8080/"
        },
        "id": "joZ4eoyLDDiG",
        "outputId": "e6981894-853f-4112-95a9-d40be565ce45"
      },
      "outputs": [
        {
          "output_type": "stream",
          "name": "stdout",
          "text": [
            "Model: \"sequential_3\"\n",
            "_________________________________________________________________\n",
            " Layer (type)                Output Shape              Param #   \n",
            "=================================================================\n",
            " dense_21 (Dense)            (None, 240)               2400      \n",
            "                                                                 \n",
            " dense_22 (Dense)            (None, 120)               28920     \n",
            "                                                                 \n",
            " dense_23 (Dense)            (None, 60)                7260      \n",
            "                                                                 \n",
            " dense_24 (Dense)            (None, 60)                3660      \n",
            "                                                                 \n",
            " dense_25 (Dense)            (None, 60)                3660      \n",
            "                                                                 \n",
            " dense_26 (Dense)            (None, 60)                3660      \n",
            "                                                                 \n",
            " dense_27 (Dense)            (None, 1)                 61        \n",
            "                                                                 \n",
            "=================================================================\n",
            "Total params: 49,621\n",
            "Trainable params: 49,621\n",
            "Non-trainable params: 0\n",
            "_________________________________________________________________\n"
          ]
        }
      ],
      "source": [
        "model = build_model()\n",
        "model.summary()"
      ]
    },
    {
      "cell_type": "code",
      "execution_count": null,
      "metadata": {
        "colab": {
          "base_uri": "https://localhost:8080/"
        },
        "id": "8UoQfFoEDHfG",
        "outputId": "90f253da-a4d4-4827-a578-2d595b366638"
      },
      "outputs": [
        {
          "output_type": "execute_result",
          "data": {
            "text/plain": [
              "array([[ 0.4454963 ],\n",
              "       [ 0.12311761],\n",
              "       [ 0.30601335],\n",
              "       [-0.32357454],\n",
              "       [ 0.1786518 ],\n",
              "       [ 0.07808243],\n",
              "       [-0.66194624],\n",
              "       [ 0.34981766],\n",
              "       [ 0.07129984],\n",
              "       [-0.01453774]], dtype=float32)"
            ]
          },
          "metadata": {},
          "execution_count": 43
        }
      ],
      "source": [
        "example_batch = train_dataset[:10]\n",
        "example_result = model.predict(example_batch)\n",
        "example_result"
      ]
    },
    {
      "cell_type": "markdown",
      "metadata": {
        "id": "qI8jeRTODN9m"
      },
      "source": [
        "#### Training"
      ]
    },
    {
      "cell_type": "code",
      "execution_count": null,
      "metadata": {
        "colab": {
          "base_uri": "https://localhost:8080/"
        },
        "id": "7vcPX3W5DQYT",
        "outputId": "1cea5be6-b7d8-4d6f-d542-0a605505b85e"
      },
      "outputs": [
        {
          "output_type": "stream",
          "name": "stdout",
          "text": [
            "\n",
            "..........\n",
            "..........\n",
            "..........\n",
            "..........\n",
            "..........\n",
            "..........\n",
            "..........\n",
            "..........\n",
            "..........\n",
            ".........."
          ]
        }
      ],
      "source": [
        "# 通过为每个完成的时期打印一个点来显示训练进度\n",
        "class PrintDot(keras.callbacks.Callback):\n",
        "  def on_epoch_end(self, epoch, logs):\n",
        "    if epoch % 10 == 0: print('')\n",
        "    print('.', end='')\n",
        "\n",
        "EPOCHS = 100\n",
        "\n",
        "history = model.fit(\n",
        "  train_dataset, \n",
        "  train_labels,\n",
        "  epochs=EPOCHS, \n",
        "  validation_split = 0.2, \n",
        "  verbose=0,\n",
        "  batch_size=128,\n",
        "  callbacks=[PrintDot()])"
      ]
    },
    {
      "cell_type": "code",
      "execution_count": null,
      "metadata": {
        "colab": {
          "base_uri": "https://localhost:8080/",
          "height": 363
        },
        "id": "6BUIhdNYLXQ1",
        "outputId": "68b65982-f58b-4dfe-af63-576cc2b542f6"
      },
      "outputs": [
        {
          "output_type": "execute_result",
          "data": {
            "text/plain": [
              "        loss       mape       mae       mse  val_loss   val_mape   val_mae  \\\n",
              "90  0.003081  14.270337  0.048621  0.006453  0.003374  14.935577  0.050181   \n",
              "91  0.003072  14.232590  0.048523  0.006433  0.003297  15.017880  0.049509   \n",
              "92  0.003057  14.140507  0.048411  0.006399  0.003375  15.289417  0.050515   \n",
              "93  0.003061  14.187275  0.048481  0.006409  0.003311  14.547668  0.049922   \n",
              "94  0.003059  14.143671  0.048428  0.006404  0.003281  14.097533  0.049241   \n",
              "95  0.003056  14.172199  0.048424  0.006398  0.003481  15.260706  0.051273   \n",
              "96  0.003047  14.149628  0.048357  0.006377  0.003422  15.468778  0.050906   \n",
              "97  0.003047  14.141892  0.048343  0.006378  0.003421  14.773240  0.051297   \n",
              "98  0.003047  14.114189  0.048362  0.006377  0.003400  14.364717  0.049891   \n",
              "99  0.003050  14.116082  0.048381  0.006383  0.003531  14.804256  0.051660   \n",
              "\n",
              "     val_mse  epoch  \n",
              "90  0.007138     90  \n",
              "91  0.006977     91  \n",
              "92  0.007141     92  \n",
              "93  0.007014     93  \n",
              "94  0.006955     94  \n",
              "95  0.007392     95  \n",
              "96  0.007250     96  \n",
              "97  0.007251     97  \n",
              "98  0.007233     98  \n",
              "99  0.007512     99  "
            ],
            "text/html": [
              "\n",
              "  <div id=\"df-2024d92d-96d4-46ab-a9b9-c00a57c4d06d\">\n",
              "    <div class=\"colab-df-container\">\n",
              "      <div>\n",
              "<style scoped>\n",
              "    .dataframe tbody tr th:only-of-type {\n",
              "        vertical-align: middle;\n",
              "    }\n",
              "\n",
              "    .dataframe tbody tr th {\n",
              "        vertical-align: top;\n",
              "    }\n",
              "\n",
              "    .dataframe thead th {\n",
              "        text-align: right;\n",
              "    }\n",
              "</style>\n",
              "<table border=\"1\" class=\"dataframe\">\n",
              "  <thead>\n",
              "    <tr style=\"text-align: right;\">\n",
              "      <th></th>\n",
              "      <th>loss</th>\n",
              "      <th>mape</th>\n",
              "      <th>mae</th>\n",
              "      <th>mse</th>\n",
              "      <th>val_loss</th>\n",
              "      <th>val_mape</th>\n",
              "      <th>val_mae</th>\n",
              "      <th>val_mse</th>\n",
              "      <th>epoch</th>\n",
              "    </tr>\n",
              "  </thead>\n",
              "  <tbody>\n",
              "    <tr>\n",
              "      <th>90</th>\n",
              "      <td>0.003081</td>\n",
              "      <td>14.270337</td>\n",
              "      <td>0.048621</td>\n",
              "      <td>0.006453</td>\n",
              "      <td>0.003374</td>\n",
              "      <td>14.935577</td>\n",
              "      <td>0.050181</td>\n",
              "      <td>0.007138</td>\n",
              "      <td>90</td>\n",
              "    </tr>\n",
              "    <tr>\n",
              "      <th>91</th>\n",
              "      <td>0.003072</td>\n",
              "      <td>14.232590</td>\n",
              "      <td>0.048523</td>\n",
              "      <td>0.006433</td>\n",
              "      <td>0.003297</td>\n",
              "      <td>15.017880</td>\n",
              "      <td>0.049509</td>\n",
              "      <td>0.006977</td>\n",
              "      <td>91</td>\n",
              "    </tr>\n",
              "    <tr>\n",
              "      <th>92</th>\n",
              "      <td>0.003057</td>\n",
              "      <td>14.140507</td>\n",
              "      <td>0.048411</td>\n",
              "      <td>0.006399</td>\n",
              "      <td>0.003375</td>\n",
              "      <td>15.289417</td>\n",
              "      <td>0.050515</td>\n",
              "      <td>0.007141</td>\n",
              "      <td>92</td>\n",
              "    </tr>\n",
              "    <tr>\n",
              "      <th>93</th>\n",
              "      <td>0.003061</td>\n",
              "      <td>14.187275</td>\n",
              "      <td>0.048481</td>\n",
              "      <td>0.006409</td>\n",
              "      <td>0.003311</td>\n",
              "      <td>14.547668</td>\n",
              "      <td>0.049922</td>\n",
              "      <td>0.007014</td>\n",
              "      <td>93</td>\n",
              "    </tr>\n",
              "    <tr>\n",
              "      <th>94</th>\n",
              "      <td>0.003059</td>\n",
              "      <td>14.143671</td>\n",
              "      <td>0.048428</td>\n",
              "      <td>0.006404</td>\n",
              "      <td>0.003281</td>\n",
              "      <td>14.097533</td>\n",
              "      <td>0.049241</td>\n",
              "      <td>0.006955</td>\n",
              "      <td>94</td>\n",
              "    </tr>\n",
              "    <tr>\n",
              "      <th>95</th>\n",
              "      <td>0.003056</td>\n",
              "      <td>14.172199</td>\n",
              "      <td>0.048424</td>\n",
              "      <td>0.006398</td>\n",
              "      <td>0.003481</td>\n",
              "      <td>15.260706</td>\n",
              "      <td>0.051273</td>\n",
              "      <td>0.007392</td>\n",
              "      <td>95</td>\n",
              "    </tr>\n",
              "    <tr>\n",
              "      <th>96</th>\n",
              "      <td>0.003047</td>\n",
              "      <td>14.149628</td>\n",
              "      <td>0.048357</td>\n",
              "      <td>0.006377</td>\n",
              "      <td>0.003422</td>\n",
              "      <td>15.468778</td>\n",
              "      <td>0.050906</td>\n",
              "      <td>0.007250</td>\n",
              "      <td>96</td>\n",
              "    </tr>\n",
              "    <tr>\n",
              "      <th>97</th>\n",
              "      <td>0.003047</td>\n",
              "      <td>14.141892</td>\n",
              "      <td>0.048343</td>\n",
              "      <td>0.006378</td>\n",
              "      <td>0.003421</td>\n",
              "      <td>14.773240</td>\n",
              "      <td>0.051297</td>\n",
              "      <td>0.007251</td>\n",
              "      <td>97</td>\n",
              "    </tr>\n",
              "    <tr>\n",
              "      <th>98</th>\n",
              "      <td>0.003047</td>\n",
              "      <td>14.114189</td>\n",
              "      <td>0.048362</td>\n",
              "      <td>0.006377</td>\n",
              "      <td>0.003400</td>\n",
              "      <td>14.364717</td>\n",
              "      <td>0.049891</td>\n",
              "      <td>0.007233</td>\n",
              "      <td>98</td>\n",
              "    </tr>\n",
              "    <tr>\n",
              "      <th>99</th>\n",
              "      <td>0.003050</td>\n",
              "      <td>14.116082</td>\n",
              "      <td>0.048381</td>\n",
              "      <td>0.006383</td>\n",
              "      <td>0.003531</td>\n",
              "      <td>14.804256</td>\n",
              "      <td>0.051660</td>\n",
              "      <td>0.007512</td>\n",
              "      <td>99</td>\n",
              "    </tr>\n",
              "  </tbody>\n",
              "</table>\n",
              "</div>\n",
              "      <button class=\"colab-df-convert\" onclick=\"convertToInteractive('df-2024d92d-96d4-46ab-a9b9-c00a57c4d06d')\"\n",
              "              title=\"Convert this dataframe to an interactive table.\"\n",
              "              style=\"display:none;\">\n",
              "        \n",
              "  <svg xmlns=\"http://www.w3.org/2000/svg\" height=\"24px\"viewBox=\"0 0 24 24\"\n",
              "       width=\"24px\">\n",
              "    <path d=\"M0 0h24v24H0V0z\" fill=\"none\"/>\n",
              "    <path d=\"M18.56 5.44l.94 2.06.94-2.06 2.06-.94-2.06-.94-.94-2.06-.94 2.06-2.06.94zm-11 1L8.5 8.5l.94-2.06 2.06-.94-2.06-.94L8.5 2.5l-.94 2.06-2.06.94zm10 10l.94 2.06.94-2.06 2.06-.94-2.06-.94-.94-2.06-.94 2.06-2.06.94z\"/><path d=\"M17.41 7.96l-1.37-1.37c-.4-.4-.92-.59-1.43-.59-.52 0-1.04.2-1.43.59L10.3 9.45l-7.72 7.72c-.78.78-.78 2.05 0 2.83L4 21.41c.39.39.9.59 1.41.59.51 0 1.02-.2 1.41-.59l7.78-7.78 2.81-2.81c.8-.78.8-2.07 0-2.86zM5.41 20L4 18.59l7.72-7.72 1.47 1.35L5.41 20z\"/>\n",
              "  </svg>\n",
              "      </button>\n",
              "      \n",
              "  <style>\n",
              "    .colab-df-container {\n",
              "      display:flex;\n",
              "      flex-wrap:wrap;\n",
              "      gap: 12px;\n",
              "    }\n",
              "\n",
              "    .colab-df-convert {\n",
              "      background-color: #E8F0FE;\n",
              "      border: none;\n",
              "      border-radius: 50%;\n",
              "      cursor: pointer;\n",
              "      display: none;\n",
              "      fill: #1967D2;\n",
              "      height: 32px;\n",
              "      padding: 0 0 0 0;\n",
              "      width: 32px;\n",
              "    }\n",
              "\n",
              "    .colab-df-convert:hover {\n",
              "      background-color: #E2EBFA;\n",
              "      box-shadow: 0px 1px 2px rgba(60, 64, 67, 0.3), 0px 1px 3px 1px rgba(60, 64, 67, 0.15);\n",
              "      fill: #174EA6;\n",
              "    }\n",
              "\n",
              "    [theme=dark] .colab-df-convert {\n",
              "      background-color: #3B4455;\n",
              "      fill: #D2E3FC;\n",
              "    }\n",
              "\n",
              "    [theme=dark] .colab-df-convert:hover {\n",
              "      background-color: #434B5C;\n",
              "      box-shadow: 0px 1px 3px 1px rgba(0, 0, 0, 0.15);\n",
              "      filter: drop-shadow(0px 1px 2px rgba(0, 0, 0, 0.3));\n",
              "      fill: #FFFFFF;\n",
              "    }\n",
              "  </style>\n",
              "\n",
              "      <script>\n",
              "        const buttonEl =\n",
              "          document.querySelector('#df-2024d92d-96d4-46ab-a9b9-c00a57c4d06d button.colab-df-convert');\n",
              "        buttonEl.style.display =\n",
              "          google.colab.kernel.accessAllowed ? 'block' : 'none';\n",
              "\n",
              "        async function convertToInteractive(key) {\n",
              "          const element = document.querySelector('#df-2024d92d-96d4-46ab-a9b9-c00a57c4d06d');\n",
              "          const dataTable =\n",
              "            await google.colab.kernel.invokeFunction('convertToInteractive',\n",
              "                                                     [key], {});\n",
              "          if (!dataTable) return;\n",
              "\n",
              "          const docLinkHtml = 'Like what you see? Visit the ' +\n",
              "            '<a target=\"_blank\" href=https://colab.research.google.com/notebooks/data_table.ipynb>data table notebook</a>'\n",
              "            + ' to learn more about interactive tables.';\n",
              "          element.innerHTML = '';\n",
              "          dataTable['output_type'] = 'display_data';\n",
              "          await google.colab.output.renderOutput(dataTable, element);\n",
              "          const docLink = document.createElement('div');\n",
              "          docLink.innerHTML = docLinkHtml;\n",
              "          element.appendChild(docLink);\n",
              "        }\n",
              "      </script>\n",
              "    </div>\n",
              "  </div>\n",
              "  "
            ]
          },
          "metadata": {},
          "execution_count": 45
        }
      ],
      "source": [
        "hist = pd.DataFrame(history.history)\n",
        "hist['epoch'] = history.epoch\n",
        "hist.tail(10)"
      ]
    },
    {
      "cell_type": "code",
      "execution_count": null,
      "metadata": {
        "colab": {
          "base_uri": "https://localhost:8080/",
          "height": 549
        },
        "id": "8fRdiLNuLbte",
        "outputId": "8a560684-9b8f-4786-b5fc-9a223d2c278b"
      },
      "outputs": [
        {
          "output_type": "display_data",
          "data": {
            "text/plain": [
              "<Figure size 432x288 with 1 Axes>"
            ],
            "image/png": "[encoded data removed]"
          },
          "metadata": {
            "needs_background": "light"
          }
        },
        {
          "output_type": "display_data",
          "data": {
            "text/plain": [
              "<Figure size 432x288 with 1 Axes>"
            ],
            "image/png": "[encoded data removed]"
          },
          "metadata": {
            "needs_background": "light"
          }
        }
      ],
      "source": [
        "def plot_history(history):\n",
        "  hist = pd.DataFrame(history.history)\n",
        "  hist['epoch'] = history.epoch\n",
        "\n",
        "  plt.figure()\n",
        "  plt.xlabel('Epoch')\n",
        "  plt.ylabel('MAPE of $H_r$ [%]')\n",
        "  plt.plot(hist['epoch'], hist['mape'],\n",
        "           label='Train Error')\n",
        "  plt.plot(hist['epoch'], hist['val_mape'],\n",
        "           label = 'Val Error')\n",
        "  plt.ylim([10.,30.])\n",
        "  plt.legend()\n",
        "\n",
        "  plt.figure()\n",
        "  plt.xlabel('Epoch')\n",
        "  plt.ylabel('MAE of $H_r$ [-]')\n",
        "  plt.plot(hist['epoch'], hist['mae'],\n",
        "           label='Train Error')\n",
        "  plt.plot(hist['epoch'], hist['val_mae'],\n",
        "           label = 'Val Error')\n",
        "  plt.ylim([0.03, 0.1])\n",
        "  plt.legend()\n",
        "  plt.show()\n",
        "\n",
        "\n",
        "plot_history(history)"
      ]
    },
    {
      "cell_type": "code",
      "execution_count": null,
      "metadata": {
        "colab": {
          "base_uri": "https://localhost:8080/",
          "height": 283
        },
        "id": "TOByIy0kLoxT",
        "outputId": "e9987832-f0b3-421c-f702-f6867b2c033e"
      },
      "outputs": [
        {
          "output_type": "display_data",
          "data": {
            "text/plain": [
              "<Figure size 432x288 with 1 Axes>"
            ],
            "image/png": "[encoded data removed]"
          },
          "metadata": {
            "needs_background": "light"
          }
        }
      ],
      "source": [
        "test_predictions = model.predict(test_dataset).flatten()\n",
        "\n",
        "plt.scatter(test_labels, test_predictions, s=0.05, alpha=0.2)\n",
        "plt.xlabel('Actural Values of Hd [-]')\n",
        "plt.ylabel('Predictions of Hd [-]')\n",
        "plt.axis('equal')\n",
        "plt.axis('square')\n",
        "plt.xlim([0,1])\n",
        "plt.ylim([0,1])\n",
        "_ = plt.plot([-100, 100], [-100, 100])"
      ]
    },
    {
      "cell_type": "code",
      "execution_count": null,
      "metadata": {
        "colab": {
          "base_uri": "https://localhost:8080/",
          "height": 279
        },
        "id": "1Ibv0rMjLuns",
        "outputId": "1253af18-d862-492d-bf6b-19d9705afda1"
      },
      "outputs": [
        {
          "output_type": "display_data",
          "data": {
            "text/plain": [
              "<Figure size 432x288 with 1 Axes>"
            ],
            "image/png": "[encoded data removed]"
          },
          "metadata": {
            "needs_background": "light"
          }
        }
      ],
      "source": [
        "error = (test_predictions - test_labels)/test_labels*100\n",
        "plt.hist(error, bins = 50000)\n",
        "plt.xlim([-50,50])\n",
        "plt.xlabel(\"Prediction Percentage Error [%]\")\n",
        "_ = plt.ylabel(\"Count\")"
      ]
    },
    {
      "cell_type": "markdown",
      "metadata": {
        "id": "Xk-U14c2VsEk"
      },
      "source": [
        "### Export the model"
      ]
    },
    {
      "cell_type": "code",
      "execution_count": null,
      "metadata": {
        "id": "xl098YCoVu92"
      },
      "outputs": [],
      "source": [
        "model.save('./drive/MyDrive/ML_model-2D_CoLab-0.56/saved_model/model_hd')\n",
        "\n",
        "model.save('./drive/MyDrive/ML_model-2D_CoLab-0.56/saved_model/model_hd.h5')"
      ]
    },
    {
      "cell_type": "code",
      "source": [
        "# export the actural and prediction values\n",
        "data_export = np.transpose([test_labels.values, test_predictions])\n",
        "\n",
        "with open('./drive/MyDrive/ML_model-2D_CoLab-0.56/ac-pr-hd.csv', 'w', encoding='UTF8', newline='') as f:\n",
        "    writer = csv.writer(f)\n",
        "    writer.writerows(data_export)\n",
        "\n",
        "df = pd.DataFrame(history.history)\n",
        "df.to_csv('./drive/MyDrive/ML_model-2D_CoLab-0.56/history_hd.csv')"
      ],
      "metadata": {
        "id": "L4soXB2BIs97"
      },
      "execution_count": null,
      "outputs": []
    },
    {
      "cell_type": "markdown",
      "metadata": {
        "id": "vBTfhB_M8nZF"
      },
      "source": [
        "## Model loading test"
      ]
    },
    {
      "cell_type": "code",
      "execution_count": null,
      "metadata": {
        "colab": {
          "base_uri": "https://localhost:8080/"
        },
        "id": "ZEomos5Q8qmk",
        "outputId": "e882ef2e-e0e4-47b7-b4ac-fc325fa16765"
      },
      "outputs": [
        {
          "name": "stdout",
          "output_type": "stream",
          "text": [
            "2.8.2\n",
            "Drive already mounted at /content/drive; to attempt to forcibly remount, call drive.mount(\"/content/drive\", force_remount=True).\n"
          ]
        }
      ],
      "source": [
        "import pandas as pd\n",
        "import numpy as np\n",
        "\n",
        "import matplotlib.pyplot as plt\n",
        "plt.rcParams[\"font.family\"] = \"Times New Roman\"\n",
        "\n",
        "import tensorflow as tf\n",
        "\n",
        "print(tf.__version__)\n",
        "\n",
        "# access to Google Drive\n",
        "from google.colab import drive\n",
        "drive.mount('/content/drive')"
      ]
    },
    {
      "cell_type": "markdown",
      "metadata": {
        "id": "-_Bjft2ge7iN"
      },
      "source": [
        "### Reaction"
      ]
    },
    {
      "cell_type": "code",
      "execution_count": null,
      "metadata": {
        "colab": {
          "base_uri": "https://localhost:8080/",
          "height": 204
        },
        "id": "ZXPzpDLqe5uD",
        "outputId": "6bc1f84f-51a0-452b-d01d-9531e2a8e69a"
      },
      "outputs": [
        {
          "data": {
            "text/html": [
              "\n",
              "  <div id=\"df-2b4abd45-e563-4a39-846b-dee54fbda997\">\n",
              "    <div class=\"colab-df-container\">\n",
              "      <div>\n",
              "<style scoped>\n",
              "    .dataframe tbody tr th:only-of-type {\n",
              "        vertical-align: middle;\n",
              "    }\n",
              "\n",
              "    .dataframe tbody tr th {\n",
              "        vertical-align: top;\n",
              "    }\n",
              "\n",
              "    .dataframe thead th {\n",
              "        text-align: right;\n",
              "    }\n",
              "</style>\n",
              "<table border=\"1\" class=\"dataframe\">\n",
              "  <thead>\n",
              "    <tr style=\"text-align: right;\">\n",
              "      <th></th>\n",
              "      <th>nt</th>\n",
              "      <th>avEs</th>\n",
              "      <th>gradXEs</th>\n",
              "      <th>gradYEs</th>\n",
              "      <th>avUslip</th>\n",
              "      <th>gradXUslip</th>\n",
              "      <th>gradYUslip</th>\n",
              "      <th>avOz</th>\n",
              "      <th>gradXOz</th>\n",
              "      <th>gradYOz</th>\n",
              "      <th>coefHr</th>\n",
              "    </tr>\n",
              "  </thead>\n",
              "  <tbody>\n",
              "    <tr>\n",
              "      <th>903454</th>\n",
              "      <td>-0.654033</td>\n",
              "      <td>-0.246491</td>\n",
              "      <td>0.235358</td>\n",
              "      <td>0.833028</td>\n",
              "      <td>0.742423</td>\n",
              "      <td>0.402253</td>\n",
              "      <td>-0.889904</td>\n",
              "      <td>-1.105819</td>\n",
              "      <td>0.059771</td>\n",
              "      <td>0.059192</td>\n",
              "      <td>0.662899</td>\n",
              "    </tr>\n",
              "    <tr>\n",
              "      <th>903455</th>\n",
              "      <td>-0.654033</td>\n",
              "      <td>1.945756</td>\n",
              "      <td>0.783242</td>\n",
              "      <td>2.767775</td>\n",
              "      <td>-0.736905</td>\n",
              "      <td>-0.003636</td>\n",
              "      <td>-0.061013</td>\n",
              "      <td>-0.906431</td>\n",
              "      <td>-1.718316</td>\n",
              "      <td>-4.832333</td>\n",
              "      <td>0.467114</td>\n",
              "    </tr>\n",
              "    <tr>\n",
              "      <th>903456</th>\n",
              "      <td>-0.654033</td>\n",
              "      <td>-0.703575</td>\n",
              "      <td>-0.015649</td>\n",
              "      <td>0.107843</td>\n",
              "      <td>-0.023702</td>\n",
              "      <td>-0.093658</td>\n",
              "      <td>-0.524788</td>\n",
              "      <td>-1.647853</td>\n",
              "      <td>0.126714</td>\n",
              "      <td>0.172214</td>\n",
              "      <td>0.634557</td>\n",
              "    </tr>\n",
              "    <tr>\n",
              "      <th>903457</th>\n",
              "      <td>-0.654033</td>\n",
              "      <td>1.562631</td>\n",
              "      <td>1.206142</td>\n",
              "      <td>-0.719028</td>\n",
              "      <td>-0.652594</td>\n",
              "      <td>-0.258675</td>\n",
              "      <td>0.344689</td>\n",
              "      <td>-1.517102</td>\n",
              "      <td>0.910571</td>\n",
              "      <td>0.351707</td>\n",
              "      <td>0.646987</td>\n",
              "    </tr>\n",
              "    <tr>\n",
              "      <th>903458</th>\n",
              "      <td>-0.654033</td>\n",
              "      <td>-0.040198</td>\n",
              "      <td>-0.435613</td>\n",
              "      <td>1.566825</td>\n",
              "      <td>0.652811</td>\n",
              "      <td>0.259045</td>\n",
              "      <td>-0.386838</td>\n",
              "      <td>-0.107130</td>\n",
              "      <td>-0.240405</td>\n",
              "      <td>0.112327</td>\n",
              "      <td>0.672528</td>\n",
              "    </tr>\n",
              "  </tbody>\n",
              "</table>\n",
              "</div>\n",
              "      <button class=\"colab-df-convert\" onclick=\"convertToInteractive('df-2b4abd45-e563-4a39-846b-dee54fbda997')\"\n",
              "              title=\"Convert this dataframe to an interactive table.\"\n",
              "              style=\"display:none;\">\n",
              "        \n",
              "  <svg xmlns=\"http://www.w3.org/2000/svg\" height=\"24px\"viewBox=\"0 0 24 24\"\n",
              "       width=\"24px\">\n",
              "    <path d=\"M0 0h24v24H0V0z\" fill=\"none\"/>\n",
              "    <path d=\"M18.56 5.44l.94 2.06.94-2.06 2.06-.94-2.06-.94-.94-2.06-.94 2.06-2.06.94zm-11 1L8.5 8.5l.94-2.06 2.06-.94-2.06-.94L8.5 2.5l-.94 2.06-2.06.94zm10 10l.94 2.06.94-2.06 2.06-.94-2.06-.94-.94-2.06-.94 2.06-2.06.94z\"/><path d=\"M17.41 7.96l-1.37-1.37c-.4-.4-.92-.59-1.43-.59-.52 0-1.04.2-1.43.59L10.3 9.45l-7.72 7.72c-.78.78-.78 2.05 0 2.83L4 21.41c.39.39.9.59 1.41.59.51 0 1.02-.2 1.41-.59l7.78-7.78 2.81-2.81c.8-.78.8-2.07 0-2.86zM5.41 20L4 18.59l7.72-7.72 1.47 1.35L5.41 20z\"/>\n",
              "  </svg>\n",
              "      </button>\n",
              "      \n",
              "  <style>\n",
              "    .colab-df-container {\n",
              "      display:flex;\n",
              "      flex-wrap:wrap;\n",
              "      gap: 12px;\n",
              "    }\n",
              "\n",
              "    .colab-df-convert {\n",
              "      background-color: #E8F0FE;\n",
              "      border: none;\n",
              "      border-radius: 50%;\n",
              "      cursor: pointer;\n",
              "      display: none;\n",
              "      fill: #1967D2;\n",
              "      height: 32px;\n",
              "      padding: 0 0 0 0;\n",
              "      width: 32px;\n",
              "    }\n",
              "\n",
              "    .colab-df-convert:hover {\n",
              "      background-color: #E2EBFA;\n",
              "      box-shadow: 0px 1px 2px rgba(60, 64, 67, 0.3), 0px 1px 3px 1px rgba(60, 64, 67, 0.15);\n",
              "      fill: #174EA6;\n",
              "    }\n",
              "\n",
              "    [theme=dark] .colab-df-convert {\n",
              "      background-color: #3B4455;\n",
              "      fill: #D2E3FC;\n",
              "    }\n",
              "\n",
              "    [theme=dark] .colab-df-convert:hover {\n",
              "      background-color: #434B5C;\n",
              "      box-shadow: 0px 1px 3px 1px rgba(0, 0, 0, 0.15);\n",
              "      filter: drop-shadow(0px 1px 2px rgba(0, 0, 0, 0.3));\n",
              "      fill: #FFFFFF;\n",
              "    }\n",
              "  </style>\n",
              "\n",
              "      <script>\n",
              "        const buttonEl =\n",
              "          document.querySelector('#df-2b4abd45-e563-4a39-846b-dee54fbda997 button.colab-df-convert');\n",
              "        buttonEl.style.display =\n",
              "          google.colab.kernel.accessAllowed ? 'block' : 'none';\n",
              "\n",
              "        async function convertToInteractive(key) {\n",
              "          const element = document.querySelector('#df-2b4abd45-e563-4a39-846b-dee54fbda997');\n",
              "          const dataTable =\n",
              "            await google.colab.kernel.invokeFunction('convertToInteractive',\n",
              "                                                     [key], {});\n",
              "          if (!dataTable) return;\n",
              "\n",
              "          const docLinkHtml = 'Like what you see? Visit the ' +\n",
              "            '<a target=\"_blank\" href=https://colab.research.google.com/notebooks/data_table.ipynb>data table notebook</a>'\n",
              "            + ' to learn more about interactive tables.';\n",
              "          element.innerHTML = '';\n",
              "          dataTable['output_type'] = 'display_data';\n",
              "          await google.colab.output.renderOutput(dataTable, element);\n",
              "          const docLink = document.createElement('div');\n",
              "          docLink.innerHTML = docLinkHtml;\n",
              "          element.appendChild(docLink);\n",
              "        }\n",
              "      </script>\n",
              "    </div>\n",
              "  </div>\n",
              "  "
            ],
            "text/plain": [
              "              nt      avEs   gradXEs   gradYEs   avUslip  gradXUslip  \\\n",
              "903454 -0.654033 -0.246491  0.235358  0.833028  0.742423    0.402253   \n",
              "903455 -0.654033  1.945756  0.783242  2.767775 -0.736905   -0.003636   \n",
              "903456 -0.654033 -0.703575 -0.015649  0.107843 -0.023702   -0.093658   \n",
              "903457 -0.654033  1.562631  1.206142 -0.719028 -0.652594   -0.258675   \n",
              "903458 -0.654033 -0.040198 -0.435613  1.566825  0.652811    0.259045   \n",
              "\n",
              "        gradYUslip      avOz   gradXOz   gradYOz    coefHr  \n",
              "903454   -0.889904 -1.105819  0.059771  0.059192  0.662899  \n",
              "903455   -0.061013 -0.906431 -1.718316 -4.832333  0.467114  \n",
              "903456   -0.524788 -1.647853  0.126714  0.172214  0.634557  \n",
              "903457    0.344689 -1.517102  0.910571  0.351707  0.646987  \n",
              "903458   -0.386838 -0.107130 -0.240405  0.112327  0.672528  "
            ]
          },
          "execution_count": 33,
          "metadata": {},
          "output_type": "execute_result"
        }
      ],
      "source": [
        "column_names = ['nt', \n",
        "               'avEs', 'gradXEs', 'gradYEs',\n",
        "               'avUslip', 'gradXUslip', 'gradYUslip',\n",
        "               'avOz', 'gradXOz', 'gradYOz',\n",
        "               'coefHr'\n",
        "              ]\n",
        "\n",
        "dir_dataset = './drive/MyDrive/ML_model_CoLab-2/dataSet_Hr_27-40.csv';\n",
        "raw_dataset = pd.read_csv(dir_dataset, names=column_names,\n",
        "                          na_values = \"?\", comment='\\t',\n",
        "                          sep=\",\", skipinitialspace=True)\n",
        "\n",
        "dataset = raw_dataset.copy()\n",
        "dataset.tail()"
      ]
    },
    {
      "cell_type": "code",
      "execution_count": null,
      "metadata": {
        "colab": {
          "base_uri": "https://localhost:8080/"
        },
        "id": "PLUeGmT-9Bhy",
        "outputId": "378ae93f-10fa-4285-a951-9b813309ae4d"
      },
      "outputs": [
        {
          "name": "stdout",
          "output_type": "stream",
          "text": [
            "Model: \"sequential\"\n",
            "_________________________________________________________________\n",
            " Layer (type)                Output Shape              Param #   \n",
            "=================================================================\n",
            " dense (Dense)               (None, 60)                660       \n",
            "                                                                 \n",
            " dense_1 (Dense)             (None, 50)                3050      \n",
            "                                                                 \n",
            " dense_2 (Dense)             (None, 50)                2550      \n",
            "                                                                 \n",
            " dense_3 (Dense)             (None, 30)                1530      \n",
            "                                                                 \n",
            " dense_4 (Dense)             (None, 20)                620       \n",
            "                                                                 \n",
            " dense_5 (Dense)             (None, 20)                420       \n",
            "                                                                 \n",
            " dense_6 (Dense)             (None, 1)                 21        \n",
            "                                                                 \n",
            "=================================================================\n",
            "Total params: 8,851\n",
            "Trainable params: 8,851\n",
            "Non-trainable params: 0\n",
            "_________________________________________________________________\n"
          ]
        }
      ],
      "source": [
        "new_model = tf.keras.models.load_model('./drive/MyDrive/ML_model_CoLab-2/saved_model/model_hr_27-40.h5')\n",
        "\n",
        "# Check its architecture\n",
        "new_model.summary()"
      ]
    },
    {
      "cell_type": "code",
      "execution_count": null,
      "metadata": {
        "id": "Xnx2xIHDewss"
      },
      "outputs": [],
      "source": [
        "test_dataset = dataset.sample(frac=0.2,random_state=0)\n",
        "test_labels = test_dataset.pop('coefHr')"
      ]
    },
    {
      "cell_type": "code",
      "execution_count": null,
      "metadata": {
        "colab": {
          "base_uri": "https://localhost:8080/",
          "height": 304
        },
        "id": "mO6M-_q6Wcfp",
        "outputId": "01b13eb1-3784-40f8-c7e4-9276c5aa90ef"
      },
      "outputs": [
        {
          "name": "stderr",
          "output_type": "stream",
          "text": [
            "findfont: Font family ['Times New Roman'] not found. Falling back to DejaVu Sans.\n"
          ]
        },
        {
          "data": {
            "image/png": "[encoded data removed]",
            "text/plain": [
              "<Figure size 432x288 with 1 Axes>"
            ]
          },
          "metadata": {},
          "output_type": "display_data"
        }
      ],
      "source": [
        "test_predictions = new_model.predict(test_dataset).flatten()\n",
        "\n",
        "plt.scatter(test_labels, test_predictions, s=0.05, alpha=0.2)\n",
        "plt.xlabel('Actural Values of $H_r$ [-]')\n",
        "plt.ylabel('Predictions of $H_r$ [-]')\n",
        "plt.axis('equal')\n",
        "plt.axis('square')\n",
        "plt.xlim([0,1])\n",
        "plt.ylim([0,1])\n",
        "_ = plt.plot([-100, 100], [-100, 100])"
      ]
    },
    {
      "cell_type": "markdown",
      "metadata": {
        "id": "0aSz52XnCOQW"
      },
      "source": [
        "# Training by TensorFlow 3D"
      ]
    },
    {
      "cell_type": "markdown",
      "metadata": {
        "id": "syOyp9hMClpn"
      },
      "source": [
        "## Chemical reaction coefficient"
      ]
    },
    {
      "cell_type": "markdown",
      "metadata": {
        "id": "yJ8pDSnFClpp"
      },
      "source": [
        "### Packages"
      ]
    },
    {
      "cell_type": "code",
      "execution_count": null,
      "metadata": {
        "colab": {
          "base_uri": "https://localhost:8080/"
        },
        "id": "ho5XKTk_Clpq",
        "outputId": "7b3a5269-b5e6-450c-a324-89436a381785"
      },
      "outputs": [
        {
          "name": "stdout",
          "output_type": "stream",
          "text": [
            "2.8.2\n",
            "Mounted at /content/drive\n"
          ]
        }
      ],
      "source": [
        "import pathlib\n",
        "\n",
        "import matplotlib.pyplot as plt\n",
        "import pandas as pd\n",
        "import seaborn as sns\n",
        "\n",
        "import tensorflow as tf\n",
        "\n",
        "from tensorflow import keras\n",
        "from tensorflow.keras import layers\n",
        "\n",
        "print(tf.__version__)\n",
        "\n",
        "# access to Google Drive\n",
        "from google.colab import drive\n",
        "drive.mount('/content/drive')"
      ]
    },
    {
      "cell_type": "markdown",
      "metadata": {
        "id": "IPA223WjClps"
      },
      "source": [
        "### Data structure and import"
      ]
    },
    {
      "cell_type": "code",
      "execution_count": null,
      "metadata": {
        "colab": {
          "base_uri": "https://localhost:8080/",
          "height": 268
        },
        "id": "56M5wdTSClps",
        "outputId": "07436d5f-5f8f-4b9a-9535-273b0eb1f8a8"
      },
      "outputs": [
        {
          "data": {
            "text/html": [
              "\n",
              "  <div id=\"df-0edaebb0-1836-4c71-b235-76af047165d0\">\n",
              "    <div class=\"colab-df-container\">\n",
              "      <div>\n",
              "<style scoped>\n",
              "    .dataframe tbody tr th:only-of-type {\n",
              "        vertical-align: middle;\n",
              "    }\n",
              "\n",
              "    .dataframe tbody tr th {\n",
              "        vertical-align: top;\n",
              "    }\n",
              "\n",
              "    .dataframe thead th {\n",
              "        text-align: right;\n",
              "    }\n",
              "</style>\n",
              "<table border=\"1\" class=\"dataframe\">\n",
              "  <thead>\n",
              "    <tr style=\"text-align: right;\">\n",
              "      <th></th>\n",
              "      <th>nt</th>\n",
              "      <th>avEs</th>\n",
              "      <th>gradXEs</th>\n",
              "      <th>gradYEs</th>\n",
              "      <th>avUslip</th>\n",
              "      <th>gradXUslip</th>\n",
              "      <th>gradYUslip</th>\n",
              "      <th>avOz</th>\n",
              "      <th>gradXOz</th>\n",
              "      <th>gradYOz</th>\n",
              "      <th>coefHr</th>\n",
              "    </tr>\n",
              "  </thead>\n",
              "  <tbody>\n",
              "    <tr>\n",
              "      <th>475465</th>\n",
              "      <td>-0.713943</td>\n",
              "      <td>-0.323576</td>\n",
              "      <td>-0.500245</td>\n",
              "      <td>0.848757</td>\n",
              "      <td>-0.505665</td>\n",
              "      <td>0.014325</td>\n",
              "      <td>-0.110021</td>\n",
              "      <td>-1.259383</td>\n",
              "      <td>0.009354</td>\n",
              "      <td>-0.544078</td>\n",
              "      <td>0.660954</td>\n",
              "    </tr>\n",
              "    <tr>\n",
              "      <th>475466</th>\n",
              "      <td>2.611537</td>\n",
              "      <td>1.253580</td>\n",
              "      <td>0.659122</td>\n",
              "      <td>-0.286811</td>\n",
              "      <td>-0.326813</td>\n",
              "      <td>0.576854</td>\n",
              "      <td>0.363816</td>\n",
              "      <td>-1.671585</td>\n",
              "      <td>0.780844</td>\n",
              "      <td>-0.045013</td>\n",
              "      <td>0.630576</td>\n",
              "    </tr>\n",
              "    <tr>\n",
              "      <th>475467</th>\n",
              "      <td>-0.713943</td>\n",
              "      <td>1.090198</td>\n",
              "      <td>0.353064</td>\n",
              "      <td>0.754669</td>\n",
              "      <td>-0.766581</td>\n",
              "      <td>0.235330</td>\n",
              "      <td>1.213936</td>\n",
              "      <td>-0.228424</td>\n",
              "      <td>0.397944</td>\n",
              "      <td>3.097976</td>\n",
              "      <td>0.649300</td>\n",
              "    </tr>\n",
              "    <tr>\n",
              "      <th>475468</th>\n",
              "      <td>1.503044</td>\n",
              "      <td>-0.541039</td>\n",
              "      <td>-0.010916</td>\n",
              "      <td>-0.251871</td>\n",
              "      <td>-0.850127</td>\n",
              "      <td>-0.010140</td>\n",
              "      <td>0.077967</td>\n",
              "      <td>-0.435970</td>\n",
              "      <td>-0.078164</td>\n",
              "      <td>-0.319302</td>\n",
              "      <td>0.657419</td>\n",
              "    </tr>\n",
              "    <tr>\n",
              "      <th>475469</th>\n",
              "      <td>-0.713943</td>\n",
              "      <td>-0.839837</td>\n",
              "      <td>-0.607195</td>\n",
              "      <td>-1.181715</td>\n",
              "      <td>-0.527263</td>\n",
              "      <td>-0.280809</td>\n",
              "      <td>0.759705</td>\n",
              "      <td>1.324302</td>\n",
              "      <td>-0.013587</td>\n",
              "      <td>0.396389</td>\n",
              "      <td>0.646217</td>\n",
              "    </tr>\n",
              "  </tbody>\n",
              "</table>\n",
              "</div>\n",
              "      <button class=\"colab-df-convert\" onclick=\"convertToInteractive('df-0edaebb0-1836-4c71-b235-76af047165d0')\"\n",
              "              title=\"Convert this dataframe to an interactive table.\"\n",
              "              style=\"display:none;\">\n",
              "        \n",
              "  <svg xmlns=\"http://www.w3.org/2000/svg\" height=\"24px\"viewBox=\"0 0 24 24\"\n",
              "       width=\"24px\">\n",
              "    <path d=\"M0 0h24v24H0V0z\" fill=\"none\"/>\n",
              "    <path d=\"M18.56 5.44l.94 2.06.94-2.06 2.06-.94-2.06-.94-.94-2.06-.94 2.06-2.06.94zm-11 1L8.5 8.5l.94-2.06 2.06-.94-2.06-.94L8.5 2.5l-.94 2.06-2.06.94zm10 10l.94 2.06.94-2.06 2.06-.94-2.06-.94-.94-2.06-.94 2.06-2.06.94z\"/><path d=\"M17.41 7.96l-1.37-1.37c-.4-.4-.92-.59-1.43-.59-.52 0-1.04.2-1.43.59L10.3 9.45l-7.72 7.72c-.78.78-.78 2.05 0 2.83L4 21.41c.39.39.9.59 1.41.59.51 0 1.02-.2 1.41-.59l7.78-7.78 2.81-2.81c.8-.78.8-2.07 0-2.86zM5.41 20L4 18.59l7.72-7.72 1.47 1.35L5.41 20z\"/>\n",
              "  </svg>\n",
              "      </button>\n",
              "      \n",
              "  <style>\n",
              "    .colab-df-container {\n",
              "      display:flex;\n",
              "      flex-wrap:wrap;\n",
              "      gap: 12px;\n",
              "    }\n",
              "\n",
              "    .colab-df-convert {\n",
              "      background-color: #E8F0FE;\n",
              "      border: none;\n",
              "      border-radius: 50%;\n",
              "      cursor: pointer;\n",
              "      display: none;\n",
              "      fill: #1967D2;\n",
              "      height: 32px;\n",
              "      padding: 0 0 0 0;\n",
              "      width: 32px;\n",
              "    }\n",
              "\n",
              "    .colab-df-convert:hover {\n",
              "      background-color: #E2EBFA;\n",
              "      box-shadow: 0px 1px 2px rgba(60, 64, 67, 0.3), 0px 1px 3px 1px rgba(60, 64, 67, 0.15);\n",
              "      fill: #174EA6;\n",
              "    }\n",
              "\n",
              "    [theme=dark] .colab-df-convert {\n",
              "      background-color: #3B4455;\n",
              "      fill: #D2E3FC;\n",
              "    }\n",
              "\n",
              "    [theme=dark] .colab-df-convert:hover {\n",
              "      background-color: #434B5C;\n",
              "      box-shadow: 0px 1px 3px 1px rgba(0, 0, 0, 0.15);\n",
              "      filter: drop-shadow(0px 1px 2px rgba(0, 0, 0, 0.3));\n",
              "      fill: #FFFFFF;\n",
              "    }\n",
              "  </style>\n",
              "\n",
              "      <script>\n",
              "        const buttonEl =\n",
              "          document.querySelector('#df-0edaebb0-1836-4c71-b235-76af047165d0 button.colab-df-convert');\n",
              "        buttonEl.style.display =\n",
              "          google.colab.kernel.accessAllowed ? 'block' : 'none';\n",
              "\n",
              "        async function convertToInteractive(key) {\n",
              "          const element = document.querySelector('#df-0edaebb0-1836-4c71-b235-76af047165d0');\n",
              "          const dataTable =\n",
              "            await google.colab.kernel.invokeFunction('convertToInteractive',\n",
              "                                                     [key], {});\n",
              "          if (!dataTable) return;\n",
              "\n",
              "          const docLinkHtml = 'Like what you see? Visit the ' +\n",
              "            '<a target=\"_blank\" href=https://colab.research.google.com/notebooks/data_table.ipynb>data table notebook</a>'\n",
              "            + ' to learn more about interactive tables.';\n",
              "          element.innerHTML = '';\n",
              "          dataTable['output_type'] = 'display_data';\n",
              "          await google.colab.output.renderOutput(dataTable, element);\n",
              "          const docLink = document.createElement('div');\n",
              "          docLink.innerHTML = docLinkHtml;\n",
              "          element.appendChild(docLink);\n",
              "        }\n",
              "      </script>\n",
              "    </div>\n",
              "  </div>\n",
              "  "
            ],
            "text/plain": [
              "              nt      avEs   gradXEs   gradYEs   avUslip  gradXUslip  \\\n",
              "475465 -0.713943 -0.323576 -0.500245  0.848757 -0.505665    0.014325   \n",
              "475466  2.611537  1.253580  0.659122 -0.286811 -0.326813    0.576854   \n",
              "475467 -0.713943  1.090198  0.353064  0.754669 -0.766581    0.235330   \n",
              "475468  1.503044 -0.541039 -0.010916 -0.251871 -0.850127   -0.010140   \n",
              "475469 -0.713943 -0.839837 -0.607195 -1.181715 -0.527263   -0.280809   \n",
              "\n",
              "        gradYUslip      avOz   gradXOz   gradYOz    coefHr  \n",
              "475465   -0.110021 -1.259383  0.009354 -0.544078  0.660954  \n",
              "475466    0.363816 -1.671585  0.780844 -0.045013  0.630576  \n",
              "475467    1.213936 -0.228424  0.397944  3.097976  0.649300  \n",
              "475468    0.077967 -0.435970 -0.078164 -0.319302  0.657419  \n",
              "475469    0.759705  1.324302 -0.013587  0.396389  0.646217  "
            ]
          },
          "execution_count": 42,
          "metadata": {},
          "output_type": "execute_result"
        }
      ],
      "source": [
        "column_names = ['nt', \n",
        "               'avEs', 'gradXEs', 'gradYEs',\n",
        "               'avUslip', 'gradXUslip', 'gradYUslip',\n",
        "               'avOz', 'gradXOz', 'gradYOz',\n",
        "               'coefHr'\n",
        "              ]\n",
        "\n",
        "dir_dataset = './drive/MyDrive/ML_model-3D_CoLab/dataSet_3DHr_60-120.csv';\n",
        "raw_dataset = pd.read_csv(dir_dataset, names=column_names,\n",
        "                          na_values = \"?\", comment='\\t',\n",
        "                          sep=\",\", skipinitialspace=True)\n",
        "\n",
        "dataset = raw_dataset.copy()\n",
        "dataset.tail()"
      ]
    },
    {
      "cell_type": "code",
      "execution_count": null,
      "metadata": {
        "id": "tvF3jYlsClps"
      },
      "outputs": [],
      "source": [
        "train_dataset = dataset.sample(frac=0.8,random_state=0)\n",
        "test_dataset = dataset.drop(train_dataset.index)\n",
        "train_labels = train_dataset.pop('coefHr')\n",
        "test_labels = test_dataset.pop('coefHr')"
      ]
    },
    {
      "cell_type": "markdown",
      "metadata": {
        "id": "nwr1OsFlClps"
      },
      "source": [
        "### Netwrok structure"
      ]
    },
    {
      "cell_type": "code",
      "execution_count": null,
      "metadata": {
        "id": "xolkLKH8Clpt"
      },
      "outputs": [],
      "source": [
        "def build_model():\n",
        "  model = keras.Sequential([\n",
        "                            layers.Dense(60, activation='tanh', input_shape=[len(train_dataset.keys())]),\n",
        "                            layers.Dense(50, activation='tanh'),\n",
        "                            layers.Dense(50, activation='tanh'),\n",
        "                            layers.Dense(30, activation='tanh'),\n",
        "                            layers.Dense(20, activation='tanh'),\n",
        "                            layers.Dense(20, activation='tanh'),\n",
        "                            layers.Dense(1, activation='tanh'),\n",
        "                            ])\n",
        "  \n",
        "  initial_learning_rate = 0.001\n",
        "  lr_schedule = tf.keras.optimizers.schedules.ExponentialDecay(\n",
        "    initial_learning_rate,\n",
        "    decay_steps=100000,\n",
        "    decay_rate=0.96,\n",
        "    staircase=True)\n",
        "\n",
        "  model.compile(loss = 'mape',\n",
        "                optimizer = tf.keras.optimizers.Adam(learning_rate=lr_schedule),\n",
        "                metrics=['mape', 'mae', 'mse'])\n",
        "  return model"
      ]
    },
    {
      "cell_type": "code",
      "execution_count": null,
      "metadata": {
        "colab": {
          "base_uri": "https://localhost:8080/"
        },
        "id": "QomKKEeHClpt",
        "outputId": "5f84e26c-d892-48f3-c565-e5e9ee792c4a"
      },
      "outputs": [
        {
          "name": "stdout",
          "output_type": "stream",
          "text": [
            "Model: \"sequential_3\"\n",
            "_________________________________________________________________\n",
            " Layer (type)                Output Shape              Param #   \n",
            "=================================================================\n",
            " dense_21 (Dense)            (None, 60)                660       \n",
            "                                                                 \n",
            " dense_22 (Dense)            (None, 50)                3050      \n",
            "                                                                 \n",
            " dense_23 (Dense)            (None, 50)                2550      \n",
            "                                                                 \n",
            " dense_24 (Dense)            (None, 30)                1530      \n",
            "                                                                 \n",
            " dense_25 (Dense)            (None, 20)                620       \n",
            "                                                                 \n",
            " dense_26 (Dense)            (None, 20)                420       \n",
            "                                                                 \n",
            " dense_27 (Dense)            (None, 1)                 21        \n",
            "                                                                 \n",
            "=================================================================\n",
            "Total params: 8,851\n",
            "Trainable params: 8,851\n",
            "Non-trainable params: 0\n",
            "_________________________________________________________________\n"
          ]
        }
      ],
      "source": [
        "model = build_model()\n",
        "model.summary()"
      ]
    },
    {
      "cell_type": "code",
      "execution_count": null,
      "metadata": {
        "colab": {
          "base_uri": "https://localhost:8080/"
        },
        "id": "9ck3QQLQClpt",
        "outputId": "03eddc46-be44-4d59-98a0-b98b0ce8a092"
      },
      "outputs": [
        {
          "data": {
            "text/plain": [
              "array([[ 0.11516289],\n",
              "       [ 0.07857443],\n",
              "       [-0.02048218],\n",
              "       [-0.07624497],\n",
              "       [ 0.01134573],\n",
              "       [ 0.12214134],\n",
              "       [ 0.26827163],\n",
              "       [ 0.38927975],\n",
              "       [ 0.0088293 ],\n",
              "       [-0.11281744]], dtype=float32)"
            ]
          },
          "execution_count": 46,
          "metadata": {},
          "output_type": "execute_result"
        }
      ],
      "source": [
        "example_batch = train_dataset[:10]\n",
        "example_result = model.predict(example_batch)\n",
        "example_result"
      ]
    },
    {
      "cell_type": "code",
      "execution_count": null,
      "metadata": {
        "colab": {
          "base_uri": "https://localhost:8080/"
        },
        "id": "1YC9bcrAClpu",
        "outputId": "43e0c048-41e1-42cc-f065-c0244fd23940"
      },
      "outputs": [
        {
          "name": "stdout",
          "output_type": "stream",
          "text": [
            "\n",
            "..........\n",
            "..........\n",
            ".........."
          ]
        }
      ],
      "source": [
        "# 通过为每个完成的时期打印一个点来显示训练进度\n",
        "class PrintDot(keras.callbacks.Callback):\n",
        "  def on_epoch_end(self, epoch, logs):\n",
        "    if epoch % 10 == 0: print('')\n",
        "    print('.', end='')\n",
        "\n",
        "EPOCHS = 30\n",
        "\n",
        "history = model.fit(\n",
        "  train_dataset, \n",
        "  train_labels,\n",
        "  epochs=EPOCHS, \n",
        "  validation_split = 0.2, \n",
        "  verbose=0,\n",
        "  batch_size=128,\n",
        "  callbacks=[PrintDot()])"
      ]
    },
    {
      "cell_type": "code",
      "execution_count": null,
      "metadata": {
        "colab": {
          "base_uri": "https://localhost:8080/",
          "height": 359
        },
        "id": "jxQ4NHeWClpu",
        "outputId": "36907eb8-a666-43c7-8bcd-669222f4ffc9"
      },
      "outputs": [
        {
          "data": {
            "text/html": [
              "\n",
              "  <div id=\"df-5af7c055-076d-43c8-b7fb-a17443c3b371\">\n",
              "    <div class=\"colab-df-container\">\n",
              "      <div>\n",
              "<style scoped>\n",
              "    .dataframe tbody tr th:only-of-type {\n",
              "        vertical-align: middle;\n",
              "    }\n",
              "\n",
              "    .dataframe tbody tr th {\n",
              "        vertical-align: top;\n",
              "    }\n",
              "\n",
              "    .dataframe thead th {\n",
              "        text-align: right;\n",
              "    }\n",
              "</style>\n",
              "<table border=\"1\" class=\"dataframe\">\n",
              "  <thead>\n",
              "    <tr style=\"text-align: right;\">\n",
              "      <th></th>\n",
              "      <th>loss</th>\n",
              "      <th>mape</th>\n",
              "      <th>mae</th>\n",
              "      <th>mse</th>\n",
              "      <th>val_loss</th>\n",
              "      <th>val_mape</th>\n",
              "      <th>val_mae</th>\n",
              "      <th>val_mse</th>\n",
              "      <th>epoch</th>\n",
              "    </tr>\n",
              "  </thead>\n",
              "  <tbody>\n",
              "    <tr>\n",
              "      <th>20</th>\n",
              "      <td>3.613134</td>\n",
              "      <td>3.613134</td>\n",
              "      <td>0.025052</td>\n",
              "      <td>0.002360</td>\n",
              "      <td>3.672601</td>\n",
              "      <td>3.672601</td>\n",
              "      <td>0.025438</td>\n",
              "      <td>0.002462</td>\n",
              "      <td>20</td>\n",
              "    </tr>\n",
              "    <tr>\n",
              "      <th>21</th>\n",
              "      <td>3.599426</td>\n",
              "      <td>3.599426</td>\n",
              "      <td>0.024959</td>\n",
              "      <td>0.002345</td>\n",
              "      <td>3.728772</td>\n",
              "      <td>3.728772</td>\n",
              "      <td>0.025694</td>\n",
              "      <td>0.002395</td>\n",
              "      <td>21</td>\n",
              "    </tr>\n",
              "    <tr>\n",
              "      <th>22</th>\n",
              "      <td>3.590313</td>\n",
              "      <td>3.590313</td>\n",
              "      <td>0.024884</td>\n",
              "      <td>0.002334</td>\n",
              "      <td>3.752095</td>\n",
              "      <td>3.752095</td>\n",
              "      <td>0.025944</td>\n",
              "      <td>0.002459</td>\n",
              "      <td>22</td>\n",
              "    </tr>\n",
              "    <tr>\n",
              "      <th>23</th>\n",
              "      <td>3.582983</td>\n",
              "      <td>3.582983</td>\n",
              "      <td>0.024840</td>\n",
              "      <td>0.002327</td>\n",
              "      <td>3.644929</td>\n",
              "      <td>3.644929</td>\n",
              "      <td>0.025264</td>\n",
              "      <td>0.002429</td>\n",
              "      <td>23</td>\n",
              "    </tr>\n",
              "    <tr>\n",
              "      <th>24</th>\n",
              "      <td>3.574459</td>\n",
              "      <td>3.574459</td>\n",
              "      <td>0.024779</td>\n",
              "      <td>0.002317</td>\n",
              "      <td>3.679452</td>\n",
              "      <td>3.679452</td>\n",
              "      <td>0.025236</td>\n",
              "      <td>0.002364</td>\n",
              "      <td>24</td>\n",
              "    </tr>\n",
              "    <tr>\n",
              "      <th>25</th>\n",
              "      <td>3.571443</td>\n",
              "      <td>3.571443</td>\n",
              "      <td>0.024759</td>\n",
              "      <td>0.002312</td>\n",
              "      <td>3.650684</td>\n",
              "      <td>3.650684</td>\n",
              "      <td>0.025346</td>\n",
              "      <td>0.002460</td>\n",
              "      <td>25</td>\n",
              "    </tr>\n",
              "    <tr>\n",
              "      <th>26</th>\n",
              "      <td>3.559731</td>\n",
              "      <td>3.559731</td>\n",
              "      <td>0.024680</td>\n",
              "      <td>0.002309</td>\n",
              "      <td>3.674580</td>\n",
              "      <td>3.674580</td>\n",
              "      <td>0.025380</td>\n",
              "      <td>0.002395</td>\n",
              "      <td>26</td>\n",
              "    </tr>\n",
              "    <tr>\n",
              "      <th>27</th>\n",
              "      <td>3.556443</td>\n",
              "      <td>3.556443</td>\n",
              "      <td>0.024644</td>\n",
              "      <td>0.002297</td>\n",
              "      <td>3.680385</td>\n",
              "      <td>3.680385</td>\n",
              "      <td>0.025491</td>\n",
              "      <td>0.002428</td>\n",
              "      <td>27</td>\n",
              "    </tr>\n",
              "    <tr>\n",
              "      <th>28</th>\n",
              "      <td>3.546199</td>\n",
              "      <td>3.546199</td>\n",
              "      <td>0.024581</td>\n",
              "      <td>0.002291</td>\n",
              "      <td>3.634189</td>\n",
              "      <td>3.634189</td>\n",
              "      <td>0.025005</td>\n",
              "      <td>0.002360</td>\n",
              "      <td>28</td>\n",
              "    </tr>\n",
              "    <tr>\n",
              "      <th>29</th>\n",
              "      <td>3.541419</td>\n",
              "      <td>3.541419</td>\n",
              "      <td>0.024550</td>\n",
              "      <td>0.002286</td>\n",
              "      <td>3.657657</td>\n",
              "      <td>3.657657</td>\n",
              "      <td>0.025222</td>\n",
              "      <td>0.002408</td>\n",
              "      <td>29</td>\n",
              "    </tr>\n",
              "  </tbody>\n",
              "</table>\n",
              "</div>\n",
              "      <button class=\"colab-df-convert\" onclick=\"convertToInteractive('df-5af7c055-076d-43c8-b7fb-a17443c3b371')\"\n",
              "              title=\"Convert this dataframe to an interactive table.\"\n",
              "              style=\"display:none;\">\n",
              "        \n",
              "  <svg xmlns=\"http://www.w3.org/2000/svg\" height=\"24px\"viewBox=\"0 0 24 24\"\n",
              "       width=\"24px\">\n",
              "    <path d=\"M0 0h24v24H0V0z\" fill=\"none\"/>\n",
              "    <path d=\"M18.56 5.44l.94 2.06.94-2.06 2.06-.94-2.06-.94-.94-2.06-.94 2.06-2.06.94zm-11 1L8.5 8.5l.94-2.06 2.06-.94-2.06-.94L8.5 2.5l-.94 2.06-2.06.94zm10 10l.94 2.06.94-2.06 2.06-.94-2.06-.94-.94-2.06-.94 2.06-2.06.94z\"/><path d=\"M17.41 7.96l-1.37-1.37c-.4-.4-.92-.59-1.43-.59-.52 0-1.04.2-1.43.59L10.3 9.45l-7.72 7.72c-.78.78-.78 2.05 0 2.83L4 21.41c.39.39.9.59 1.41.59.51 0 1.02-.2 1.41-.59l7.78-7.78 2.81-2.81c.8-.78.8-2.07 0-2.86zM5.41 20L4 18.59l7.72-7.72 1.47 1.35L5.41 20z\"/>\n",
              "  </svg>\n",
              "      </button>\n",
              "      \n",
              "  <style>\n",
              "    .colab-df-container {\n",
              "      display:flex;\n",
              "      flex-wrap:wrap;\n",
              "      gap: 12px;\n",
              "    }\n",
              "\n",
              "    .colab-df-convert {\n",
              "      background-color: #E8F0FE;\n",
              "      border: none;\n",
              "      border-radius: 50%;\n",
              "      cursor: pointer;\n",
              "      display: none;\n",
              "      fill: #1967D2;\n",
              "      height: 32px;\n",
              "      padding: 0 0 0 0;\n",
              "      width: 32px;\n",
              "    }\n",
              "\n",
              "    .colab-df-convert:hover {\n",
              "      background-color: #E2EBFA;\n",
              "      box-shadow: 0px 1px 2px rgba(60, 64, 67, 0.3), 0px 1px 3px 1px rgba(60, 64, 67, 0.15);\n",
              "      fill: #174EA6;\n",
              "    }\n",
              "\n",
              "    [theme=dark] .colab-df-convert {\n",
              "      background-color: #3B4455;\n",
              "      fill: #D2E3FC;\n",
              "    }\n",
              "\n",
              "    [theme=dark] .colab-df-convert:hover {\n",
              "      background-color: #434B5C;\n",
              "      box-shadow: 0px 1px 3px 1px rgba(0, 0, 0, 0.15);\n",
              "      filter: drop-shadow(0px 1px 2px rgba(0, 0, 0, 0.3));\n",
              "      fill: #FFFFFF;\n",
              "    }\n",
              "  </style>\n",
              "\n",
              "      <script>\n",
              "        const buttonEl =\n",
              "          document.querySelector('#df-5af7c055-076d-43c8-b7fb-a17443c3b371 button.colab-df-convert');\n",
              "        buttonEl.style.display =\n",
              "          google.colab.kernel.accessAllowed ? 'block' : 'none';\n",
              "\n",
              "        async function convertToInteractive(key) {\n",
              "          const element = document.querySelector('#df-5af7c055-076d-43c8-b7fb-a17443c3b371');\n",
              "          const dataTable =\n",
              "            await google.colab.kernel.invokeFunction('convertToInteractive',\n",
              "                                                     [key], {});\n",
              "          if (!dataTable) return;\n",
              "\n",
              "          const docLinkHtml = 'Like what you see? Visit the ' +\n",
              "            '<a target=\"_blank\" href=https://colab.research.google.com/notebooks/data_table.ipynb>data table notebook</a>'\n",
              "            + ' to learn more about interactive tables.';\n",
              "          element.innerHTML = '';\n",
              "          dataTable['output_type'] = 'display_data';\n",
              "          await google.colab.output.renderOutput(dataTable, element);\n",
              "          const docLink = document.createElement('div');\n",
              "          docLink.innerHTML = docLinkHtml;\n",
              "          element.appendChild(docLink);\n",
              "        }\n",
              "      </script>\n",
              "    </div>\n",
              "  </div>\n",
              "  "
            ],
            "text/plain": [
              "        loss      mape       mae       mse  val_loss  val_mape   val_mae  \\\n",
              "20  3.613134  3.613134  0.025052  0.002360  3.672601  3.672601  0.025438   \n",
              "21  3.599426  3.599426  0.024959  0.002345  3.728772  3.728772  0.025694   \n",
              "22  3.590313  3.590313  0.024884  0.002334  3.752095  3.752095  0.025944   \n",
              "23  3.582983  3.582983  0.024840  0.002327  3.644929  3.644929  0.025264   \n",
              "24  3.574459  3.574459  0.024779  0.002317  3.679452  3.679452  0.025236   \n",
              "25  3.571443  3.571443  0.024759  0.002312  3.650684  3.650684  0.025346   \n",
              "26  3.559731  3.559731  0.024680  0.002309  3.674580  3.674580  0.025380   \n",
              "27  3.556443  3.556443  0.024644  0.002297  3.680385  3.680385  0.025491   \n",
              "28  3.546199  3.546199  0.024581  0.002291  3.634189  3.634189  0.025005   \n",
              "29  3.541419  3.541419  0.024550  0.002286  3.657657  3.657657  0.025222   \n",
              "\n",
              "     val_mse  epoch  \n",
              "20  0.002462     20  \n",
              "21  0.002395     21  \n",
              "22  0.002459     22  \n",
              "23  0.002429     23  \n",
              "24  0.002364     24  \n",
              "25  0.002460     25  \n",
              "26  0.002395     26  \n",
              "27  0.002428     27  \n",
              "28  0.002360     28  \n",
              "29  0.002408     29  "
            ]
          },
          "execution_count": 48,
          "metadata": {},
          "output_type": "execute_result"
        }
      ],
      "source": [
        "hist = pd.DataFrame(history.history)\n",
        "hist['epoch'] = history.epoch\n",
        "hist.tail(10)"
      ]
    },
    {
      "cell_type": "code",
      "execution_count": null,
      "metadata": {
        "colab": {
          "base_uri": "https://localhost:8080/",
          "height": 549
        },
        "id": "t8_ifN1sClpv",
        "outputId": "af877f54-f45a-4151-a873-bacafdb36ab7"
      },
      "outputs": [
        {
          "data": {
            "image/png": "[encoded data removed]",
            "text/plain": [
              "<Figure size 432x288 with 1 Axes>"
            ]
          },
          "metadata": {},
          "output_type": "display_data"
        },
        {
          "data": {
            "image/png": "[encoded data removed]",
            "text/plain": [
              "<Figure size 432x288 with 1 Axes>"
            ]
          },
          "metadata": {},
          "output_type": "display_data"
        }
      ],
      "source": [
        "def plot_history(history):\n",
        "  hist = pd.DataFrame(history.history)\n",
        "  hist['epoch'] = history.epoch\n",
        "\n",
        "  plt.figure()\n",
        "  plt.xlabel('Epoch')\n",
        "  plt.ylabel('MAPE of $H_r$ [%]')\n",
        "  plt.plot(hist['epoch'], hist['mape'],\n",
        "           label='Train Error')\n",
        "  plt.plot(hist['epoch'], hist['val_mape'],\n",
        "           label = 'Val Error')\n",
        "  plt.ylim([2.,8])\n",
        "  plt.legend()\n",
        "\n",
        "  plt.figure()\n",
        "  plt.xlabel('Epoch')\n",
        "  plt.ylabel('MAE of $H_r$ [-]')\n",
        "  plt.plot(hist['epoch'], hist['mae'],\n",
        "           label='Train Error')\n",
        "  plt.plot(hist['epoch'], hist['val_mae'],\n",
        "           label = 'Val Error')\n",
        "  plt.ylim([0.01, 0.08])\n",
        "  plt.legend()\n",
        "  plt.show()\n",
        "\n",
        "\n",
        "plot_history(history)"
      ]
    },
    {
      "cell_type": "code",
      "execution_count": null,
      "metadata": {
        "colab": {
          "base_uri": "https://localhost:8080/",
          "height": 283
        },
        "id": "_fmtITZeClpv",
        "outputId": "4e83876b-7761-4f79-b2c8-1ba1dd63ed25"
      },
      "outputs": [
        {
          "data": {
            "image/png": "[encoded data removed]",
            "text/plain": [
              "<Figure size 432x288 with 1 Axes>"
            ]
          },
          "metadata": {},
          "output_type": "display_data"
        }
      ],
      "source": [
        "test_predictions = model.predict(test_dataset).flatten()\n",
        "\n",
        "plt.scatter(test_labels, test_predictions, s=0.05, alpha=0.2)\n",
        "plt.xlabel('Actural Values of Hr [-]')\n",
        "plt.ylabel('Predictions of Hr [-]')\n",
        "plt.axis('equal')\n",
        "plt.axis('square')\n",
        "plt.xlim([0.4,1])\n",
        "plt.ylim([0.4,1])\n",
        "_ = plt.plot([-100, 100], [-100, 100])"
      ]
    },
    {
      "cell_type": "code",
      "execution_count": null,
      "metadata": {
        "colab": {
          "base_uri": "https://localhost:8080/",
          "height": 279
        },
        "id": "DIQTxLbdClpv",
        "outputId": "9a85baf5-1013-4ac2-bfe7-4596c741fbc9"
      },
      "outputs": [
        {
          "data": {
            "image/png": "[encoded data removed]",
            "text/plain": [
              "<Figure size 432x288 with 1 Axes>"
            ]
          },
          "metadata": {},
          "output_type": "display_data"
        }
      ],
      "source": [
        "error = (test_predictions - test_labels)/test_labels*100\n",
        "plt.hist(error, bins = 200)\n",
        "plt.xlim([-20,20])\n",
        "plt.xlabel(\"Prediction Percentage Error [%]\")\n",
        "_ = plt.ylabel(\"Count\")"
      ]
    },
    {
      "cell_type": "markdown",
      "metadata": {
        "id": "J4KXcYP5Clpv"
      },
      "source": [
        "### Export the model"
      ]
    },
    {
      "cell_type": "code",
      "execution_count": null,
      "metadata": {
        "id": "ksr3stYXClpw"
      },
      "outputs": [],
      "source": [
        "# model.save('./drive/MyDrive/ML_model_CoLab-2/saved_model/model_hr_27-40')\n",
        "\n",
        "model.save('./drive/MyDrive/ML_model-3D_CoLab/saved_model/model_3Dhr_60-120.h5')"
      ]
    },
    {
      "cell_type": "markdown",
      "metadata": {
        "id": "Cro3fucSI4Zm"
      },
      "source": [
        "## Drag coefficient"
      ]
    },
    {
      "cell_type": "markdown",
      "metadata": {
        "id": "4T5S9tHgI4Zt"
      },
      "source": [
        "### Packages"
      ]
    },
    {
      "cell_type": "code",
      "execution_count": null,
      "metadata": {
        "colab": {
          "base_uri": "https://localhost:8080/"
        },
        "id": "3mYd8RzpI4Zt",
        "outputId": "62b179ba-9dd8-42ae-e0a7-092c7b3e29f1"
      },
      "outputs": [
        {
          "name": "stdout",
          "output_type": "stream",
          "text": [
            "2.8.2\n",
            "Drive already mounted at /content/drive; to attempt to forcibly remount, call drive.mount(\"/content/drive\", force_remount=True).\n"
          ]
        }
      ],
      "source": [
        "import pathlib\n",
        "\n",
        "import matplotlib.pyplot as plt\n",
        "import pandas as pd\n",
        "import seaborn as sns\n",
        "\n",
        "import tensorflow as tf\n",
        "\n",
        "from tensorflow import keras\n",
        "from tensorflow.keras import layers\n",
        "\n",
        "print(tf.__version__)\n",
        "\n",
        "# access to Google Drive\n",
        "from google.colab import drive\n",
        "drive.mount('/content/drive')"
      ]
    },
    {
      "cell_type": "markdown",
      "metadata": {
        "id": "wl6tlg7eI4Zv"
      },
      "source": [
        "### Data structure and import"
      ]
    },
    {
      "cell_type": "code",
      "execution_count": null,
      "metadata": {
        "colab": {
          "base_uri": "https://localhost:8080/",
          "height": 248
        },
        "id": "QZdIcq7hI4Zv",
        "outputId": "784a5727-cd91-4b1f-b6b9-1c09d5109404"
      },
      "outputs": [
        {
          "data": {
            "text/html": [
              "\n",
              "  <div id=\"df-a910813d-b7c9-4fa0-b31e-4d36ee13042d\">\n",
              "    <div class=\"colab-df-container\">\n",
              "      <div>\n",
              "<style scoped>\n",
              "    .dataframe tbody tr th:only-of-type {\n",
              "        vertical-align: middle;\n",
              "    }\n",
              "\n",
              "    .dataframe tbody tr th {\n",
              "        vertical-align: top;\n",
              "    }\n",
              "\n",
              "    .dataframe thead th {\n",
              "        text-align: right;\n",
              "    }\n",
              "</style>\n",
              "<table border=\"1\" class=\"dataframe\">\n",
              "  <thead>\n",
              "    <tr style=\"text-align: right;\">\n",
              "      <th></th>\n",
              "      <th>nt</th>\n",
              "      <th>Es</th>\n",
              "      <th>dEsdx</th>\n",
              "      <th>dEsdy</th>\n",
              "      <th>dPdx</th>\n",
              "      <th>dPdy</th>\n",
              "      <th>UslipY</th>\n",
              "      <th>dUslipYdx</th>\n",
              "      <th>dUslipYdy</th>\n",
              "      <th>coefHd</th>\n",
              "    </tr>\n",
              "  </thead>\n",
              "  <tbody>\n",
              "    <tr>\n",
              "      <th>475465</th>\n",
              "      <td>-0.713943</td>\n",
              "      <td>-0.323576</td>\n",
              "      <td>-0.500245</td>\n",
              "      <td>0.848757</td>\n",
              "      <td>-0.002540</td>\n",
              "      <td>-0.168391</td>\n",
              "      <td>-0.517605</td>\n",
              "      <td>0.017202</td>\n",
              "      <td>-0.143246</td>\n",
              "      <td>0.367483</td>\n",
              "    </tr>\n",
              "    <tr>\n",
              "      <th>475466</th>\n",
              "      <td>2.611537</td>\n",
              "      <td>1.253580</td>\n",
              "      <td>0.659122</td>\n",
              "      <td>-0.286811</td>\n",
              "      <td>-0.005784</td>\n",
              "      <td>-2.364858</td>\n",
              "      <td>-0.262984</td>\n",
              "      <td>0.530910</td>\n",
              "      <td>0.308037</td>\n",
              "      <td>0.226941</td>\n",
              "    </tr>\n",
              "    <tr>\n",
              "      <th>475467</th>\n",
              "      <td>-0.713943</td>\n",
              "      <td>1.090198</td>\n",
              "      <td>0.353064</td>\n",
              "      <td>0.754669</td>\n",
              "      <td>-0.002368</td>\n",
              "      <td>0.380159</td>\n",
              "      <td>-0.672997</td>\n",
              "      <td>0.280569</td>\n",
              "      <td>1.073632</td>\n",
              "      <td>0.299895</td>\n",
              "    </tr>\n",
              "    <tr>\n",
              "      <th>475468</th>\n",
              "      <td>1.503044</td>\n",
              "      <td>-0.541039</td>\n",
              "      <td>-0.010916</td>\n",
              "      <td>-0.251871</td>\n",
              "      <td>-0.002210</td>\n",
              "      <td>0.030233</td>\n",
              "      <td>-0.745238</td>\n",
              "      <td>-0.010397</td>\n",
              "      <td>0.078710</td>\n",
              "      <td>0.389981</td>\n",
              "    </tr>\n",
              "    <tr>\n",
              "      <th>475469</th>\n",
              "      <td>-0.713943</td>\n",
              "      <td>-0.839837</td>\n",
              "      <td>-0.607195</td>\n",
              "      <td>-1.181715</td>\n",
              "      <td>-0.002210</td>\n",
              "      <td>0.029521</td>\n",
              "      <td>-0.492880</td>\n",
              "      <td>-0.209807</td>\n",
              "      <td>0.699367</td>\n",
              "      <td>0.319990</td>\n",
              "    </tr>\n",
              "  </tbody>\n",
              "</table>\n",
              "</div>\n",
              "      <button class=\"colab-df-convert\" onclick=\"convertToInteractive('df-a910813d-b7c9-4fa0-b31e-4d36ee13042d')\"\n",
              "              title=\"Convert this dataframe to an interactive table.\"\n",
              "              style=\"display:none;\">\n",
              "        \n",
              "  <svg xmlns=\"http://www.w3.org/2000/svg\" height=\"24px\"viewBox=\"0 0 24 24\"\n",
              "       width=\"24px\">\n",
              "    <path d=\"M0 0h24v24H0V0z\" fill=\"none\"/>\n",
              "    <path d=\"M18.56 5.44l.94 2.06.94-2.06 2.06-.94-2.06-.94-.94-2.06-.94 2.06-2.06.94zm-11 1L8.5 8.5l.94-2.06 2.06-.94-2.06-.94L8.5 2.5l-.94 2.06-2.06.94zm10 10l.94 2.06.94-2.06 2.06-.94-2.06-.94-.94-2.06-.94 2.06-2.06.94z\"/><path d=\"M17.41 7.96l-1.37-1.37c-.4-.4-.92-.59-1.43-.59-.52 0-1.04.2-1.43.59L10.3 9.45l-7.72 7.72c-.78.78-.78 2.05 0 2.83L4 21.41c.39.39.9.59 1.41.59.51 0 1.02-.2 1.41-.59l7.78-7.78 2.81-2.81c.8-.78.8-2.07 0-2.86zM5.41 20L4 18.59l7.72-7.72 1.47 1.35L5.41 20z\"/>\n",
              "  </svg>\n",
              "      </button>\n",
              "      \n",
              "  <style>\n",
              "    .colab-df-container {\n",
              "      display:flex;\n",
              "      flex-wrap:wrap;\n",
              "      gap: 12px;\n",
              "    }\n",
              "\n",
              "    .colab-df-convert {\n",
              "      background-color: #E8F0FE;\n",
              "      border: none;\n",
              "      border-radius: 50%;\n",
              "      cursor: pointer;\n",
              "      display: none;\n",
              "      fill: #1967D2;\n",
              "      height: 32px;\n",
              "      padding: 0 0 0 0;\n",
              "      width: 32px;\n",
              "    }\n",
              "\n",
              "    .colab-df-convert:hover {\n",
              "      background-color: #E2EBFA;\n",
              "      box-shadow: 0px 1px 2px rgba(60, 64, 67, 0.3), 0px 1px 3px 1px rgba(60, 64, 67, 0.15);\n",
              "      fill: #174EA6;\n",
              "    }\n",
              "\n",
              "    [theme=dark] .colab-df-convert {\n",
              "      background-color: #3B4455;\n",
              "      fill: #D2E3FC;\n",
              "    }\n",
              "\n",
              "    [theme=dark] .colab-df-convert:hover {\n",
              "      background-color: #434B5C;\n",
              "      box-shadow: 0px 1px 3px 1px rgba(0, 0, 0, 0.15);\n",
              "      filter: drop-shadow(0px 1px 2px rgba(0, 0, 0, 0.3));\n",
              "      fill: #FFFFFF;\n",
              "    }\n",
              "  </style>\n",
              "\n",
              "      <script>\n",
              "        const buttonEl =\n",
              "          document.querySelector('#df-a910813d-b7c9-4fa0-b31e-4d36ee13042d button.colab-df-convert');\n",
              "        buttonEl.style.display =\n",
              "          google.colab.kernel.accessAllowed ? 'block' : 'none';\n",
              "\n",
              "        async function convertToInteractive(key) {\n",
              "          const element = document.querySelector('#df-a910813d-b7c9-4fa0-b31e-4d36ee13042d');\n",
              "          const dataTable =\n",
              "            await google.colab.kernel.invokeFunction('convertToInteractive',\n",
              "                                                     [key], {});\n",
              "          if (!dataTable) return;\n",
              "\n",
              "          const docLinkHtml = 'Like what you see? Visit the ' +\n",
              "            '<a target=\"_blank\" href=https://colab.research.google.com/notebooks/data_table.ipynb>data table notebook</a>'\n",
              "            + ' to learn more about interactive tables.';\n",
              "          element.innerHTML = '';\n",
              "          dataTable['output_type'] = 'display_data';\n",
              "          await google.colab.output.renderOutput(dataTable, element);\n",
              "          const docLink = document.createElement('div');\n",
              "          docLink.innerHTML = docLinkHtml;\n",
              "          element.appendChild(docLink);\n",
              "        }\n",
              "      </script>\n",
              "    </div>\n",
              "  </div>\n",
              "  "
            ],
            "text/plain": [
              "              nt        Es     dEsdx     dEsdy      dPdx      dPdy    UslipY  \\\n",
              "475465 -0.713943 -0.323576 -0.500245  0.848757 -0.002540 -0.168391 -0.517605   \n",
              "475466  2.611537  1.253580  0.659122 -0.286811 -0.005784 -2.364858 -0.262984   \n",
              "475467 -0.713943  1.090198  0.353064  0.754669 -0.002368  0.380159 -0.672997   \n",
              "475468  1.503044 -0.541039 -0.010916 -0.251871 -0.002210  0.030233 -0.745238   \n",
              "475469 -0.713943 -0.839837 -0.607195 -1.181715 -0.002210  0.029521 -0.492880   \n",
              "\n",
              "        dUslipYdx  dUslipYdy    coefHd  \n",
              "475465   0.017202  -0.143246  0.367483  \n",
              "475466   0.530910   0.308037  0.226941  \n",
              "475467   0.280569   1.073632  0.299895  \n",
              "475468  -0.010397   0.078710  0.389981  \n",
              "475469  -0.209807   0.699367  0.319990  "
            ]
          },
          "execution_count": 55,
          "metadata": {},
          "output_type": "execute_result"
        }
      ],
      "source": [
        "column_names = ['nt',\n",
        "               'Es','dEsdx','dEsdy', \n",
        "               'dPdx','dPdy',\n",
        "               'UslipY','dUslipYdx','dUslipYdy',\n",
        "               'coefHd']\n",
        "\n",
        "dir_dataset = './drive/MyDrive/ML_model-3D_CoLab/dataSet_3DHd_60-120.csv';\n",
        "raw_dataset = pd.read_csv(dir_dataset, names=column_names,\n",
        "                          na_values = \"?\", comment='\\t',\n",
        "                          sep=\",\", skipinitialspace=True)\n",
        "\n",
        "dataset = raw_dataset.copy()\n",
        "dataset.tail()"
      ]
    },
    {
      "cell_type": "code",
      "execution_count": null,
      "metadata": {
        "id": "qJBwsAcsI4Zw"
      },
      "outputs": [],
      "source": [
        "train_dataset = dataset.sample(frac=0.8,random_state=0)\n",
        "test_dataset = dataset.drop(train_dataset.index)\n",
        "train_labels = train_dataset.pop('coefHd')\n",
        "test_labels = test_dataset.pop('coefHd')"
      ]
    },
    {
      "cell_type": "markdown",
      "metadata": {
        "id": "5seCnMp1I4Zw"
      },
      "source": [
        "### Neural network structure"
      ]
    },
    {
      "cell_type": "code",
      "execution_count": null,
      "metadata": {
        "id": "BPdi6le8I4Zw"
      },
      "outputs": [],
      "source": [
        "def build_model():\n",
        "  model = keras.Sequential([\n",
        "                            layers.Dense(60, activation='tanh', input_shape=[len(train_dataset.keys())]),\n",
        "                            layers.Dense(50, activation='tanh'),\n",
        "                            layers.Dense(50, activation='tanh'),\n",
        "                            layers.Dense(30, activation='tanh'),\n",
        "                            layers.Dense(20, activation='tanh'),\n",
        "                            layers.Dense(20, activation='tanh'),\n",
        "                            layers.Dense(1, activation='tanh'),\n",
        "                            ])\n",
        "  \n",
        "  initial_learning_rate = 0.001\n",
        "  lr_schedule = tf.keras.optimizers.schedules.ExponentialDecay(\n",
        "    initial_learning_rate,\n",
        "    decay_steps=100000,\n",
        "    decay_rate=0.96,\n",
        "    staircase=True)\n",
        "\n",
        "  model.compile(loss = 'mape',\n",
        "                optimizer = tf.keras.optimizers.Adam(learning_rate=lr_schedule),\n",
        "                metrics=['mape', 'mae', 'mse'])\n",
        "  return model"
      ]
    },
    {
      "cell_type": "code",
      "execution_count": null,
      "metadata": {
        "colab": {
          "base_uri": "https://localhost:8080/"
        },
        "id": "edD7UsOcI4Zx",
        "outputId": "580d0955-0a4a-4af9-a8fd-50e5270777be"
      },
      "outputs": [
        {
          "name": "stdout",
          "output_type": "stream",
          "text": [
            "Model: \"sequential_4\"\n",
            "_________________________________________________________________\n",
            " Layer (type)                Output Shape              Param #   \n",
            "=================================================================\n",
            " dense_28 (Dense)            (None, 60)                600       \n",
            "                                                                 \n",
            " dense_29 (Dense)            (None, 50)                3050      \n",
            "                                                                 \n",
            " dense_30 (Dense)            (None, 50)                2550      \n",
            "                                                                 \n",
            " dense_31 (Dense)            (None, 30)                1530      \n",
            "                                                                 \n",
            " dense_32 (Dense)            (None, 20)                620       \n",
            "                                                                 \n",
            " dense_33 (Dense)            (None, 20)                420       \n",
            "                                                                 \n",
            " dense_34 (Dense)            (None, 1)                 21        \n",
            "                                                                 \n",
            "=================================================================\n",
            "Total params: 8,791\n",
            "Trainable params: 8,791\n",
            "Non-trainable params: 0\n",
            "_________________________________________________________________\n"
          ]
        }
      ],
      "source": [
        "model = build_model()\n",
        "model.summary()"
      ]
    },
    {
      "cell_type": "code",
      "execution_count": null,
      "metadata": {
        "colab": {
          "base_uri": "https://localhost:8080/"
        },
        "id": "l3UZKwoUI4Zx",
        "outputId": "8080d8f5-b1a7-41fd-d9e4-19cc82c8a185"
      },
      "outputs": [
        {
          "data": {
            "text/plain": [
              "array([[-0.49263003],\n",
              "       [ 0.44139186],\n",
              "       [ 0.17685522],\n",
              "       [-0.5967349 ],\n",
              "       [ 0.5704733 ],\n",
              "       [-0.31259534],\n",
              "       [-0.5134944 ],\n",
              "       [ 0.23379552],\n",
              "       [-0.16741098],\n",
              "       [-0.58302474]], dtype=float32)"
            ]
          },
          "execution_count": 59,
          "metadata": {},
          "output_type": "execute_result"
        }
      ],
      "source": [
        "example_batch = train_dataset[:10]\n",
        "example_result = model.predict(example_batch)\n",
        "example_result"
      ]
    },
    {
      "cell_type": "markdown",
      "metadata": {
        "id": "98BTN_nEI4Zx"
      },
      "source": [
        "#### Training"
      ]
    },
    {
      "cell_type": "code",
      "execution_count": null,
      "metadata": {
        "colab": {
          "base_uri": "https://localhost:8080/"
        },
        "id": "H_LrfnyJI4Zy",
        "outputId": "d547ba10-7498-4095-f9a7-89c6698cc084"
      },
      "outputs": [
        {
          "name": "stdout",
          "output_type": "stream",
          "text": [
            "\n",
            "..........\n",
            "..........\n",
            "..........\n",
            "..........\n",
            "..........\n",
            "..........\n",
            ".........."
          ]
        }
      ],
      "source": [
        "# 通过为每个完成的时期打印一个点来显示训练进度\n",
        "class PrintDot(keras.callbacks.Callback):\n",
        "  def on_epoch_end(self, epoch, logs):\n",
        "    if epoch % 10 == 0: print('')\n",
        "    print('.', end='')\n",
        "\n",
        "EPOCHS = 70\n",
        "\n",
        "history = model.fit(\n",
        "  train_dataset, \n",
        "  train_labels,\n",
        "  epochs=EPOCHS, \n",
        "  validation_split = 0.2, \n",
        "  verbose=0,\n",
        "  batch_size=128,\n",
        "  callbacks=[PrintDot()])"
      ]
    },
    {
      "cell_type": "code",
      "execution_count": null,
      "metadata": {
        "colab": {
          "base_uri": "https://localhost:8080/",
          "height": 359
        },
        "id": "QXO52moNI4Zy",
        "outputId": "61279e90-c89b-4a15-c7cb-813dfe3449c2"
      },
      "outputs": [
        {
          "data": {
            "text/html": [
              "\n",
              "  <div id=\"df-c05efcc8-83dd-49e5-a0e8-00ee0347e165\">\n",
              "    <div class=\"colab-df-container\">\n",
              "      <div>\n",
              "<style scoped>\n",
              "    .dataframe tbody tr th:only-of-type {\n",
              "        vertical-align: middle;\n",
              "    }\n",
              "\n",
              "    .dataframe tbody tr th {\n",
              "        vertical-align: top;\n",
              "    }\n",
              "\n",
              "    .dataframe thead th {\n",
              "        text-align: right;\n",
              "    }\n",
              "</style>\n",
              "<table border=\"1\" class=\"dataframe\">\n",
              "  <thead>\n",
              "    <tr style=\"text-align: right;\">\n",
              "      <th></th>\n",
              "      <th>loss</th>\n",
              "      <th>mape</th>\n",
              "      <th>mae</th>\n",
              "      <th>mse</th>\n",
              "      <th>val_loss</th>\n",
              "      <th>val_mape</th>\n",
              "      <th>val_mae</th>\n",
              "      <th>val_mse</th>\n",
              "      <th>epoch</th>\n",
              "    </tr>\n",
              "  </thead>\n",
              "  <tbody>\n",
              "    <tr>\n",
              "      <th>60</th>\n",
              "      <td>17.878422</td>\n",
              "      <td>17.878422</td>\n",
              "      <td>0.072072</td>\n",
              "      <td>0.015445</td>\n",
              "      <td>18.304565</td>\n",
              "      <td>18.304565</td>\n",
              "      <td>0.071317</td>\n",
              "      <td>0.015011</td>\n",
              "      <td>60</td>\n",
              "    </tr>\n",
              "    <tr>\n",
              "      <th>61</th>\n",
              "      <td>17.881847</td>\n",
              "      <td>17.881847</td>\n",
              "      <td>0.071973</td>\n",
              "      <td>0.015410</td>\n",
              "      <td>18.416985</td>\n",
              "      <td>18.416985</td>\n",
              "      <td>0.073745</td>\n",
              "      <td>0.016298</td>\n",
              "      <td>61</td>\n",
              "    </tr>\n",
              "    <tr>\n",
              "      <th>62</th>\n",
              "      <td>17.925987</td>\n",
              "      <td>17.925987</td>\n",
              "      <td>0.072157</td>\n",
              "      <td>0.015440</td>\n",
              "      <td>18.088467</td>\n",
              "      <td>18.088467</td>\n",
              "      <td>0.071042</td>\n",
              "      <td>0.015152</td>\n",
              "      <td>62</td>\n",
              "    </tr>\n",
              "    <tr>\n",
              "      <th>63</th>\n",
              "      <td>17.869232</td>\n",
              "      <td>17.869232</td>\n",
              "      <td>0.072008</td>\n",
              "      <td>0.015447</td>\n",
              "      <td>18.427942</td>\n",
              "      <td>18.427942</td>\n",
              "      <td>0.073527</td>\n",
              "      <td>0.015918</td>\n",
              "      <td>63</td>\n",
              "    </tr>\n",
              "    <tr>\n",
              "      <th>64</th>\n",
              "      <td>17.854488</td>\n",
              "      <td>17.854488</td>\n",
              "      <td>0.071926</td>\n",
              "      <td>0.015415</td>\n",
              "      <td>18.173820</td>\n",
              "      <td>18.173820</td>\n",
              "      <td>0.072495</td>\n",
              "      <td>0.015641</td>\n",
              "      <td>64</td>\n",
              "    </tr>\n",
              "    <tr>\n",
              "      <th>65</th>\n",
              "      <td>17.826820</td>\n",
              "      <td>17.826820</td>\n",
              "      <td>0.071854</td>\n",
              "      <td>0.015379</td>\n",
              "      <td>19.432844</td>\n",
              "      <td>19.432844</td>\n",
              "      <td>0.077573</td>\n",
              "      <td>0.015928</td>\n",
              "      <td>65</td>\n",
              "    </tr>\n",
              "    <tr>\n",
              "      <th>66</th>\n",
              "      <td>17.837383</td>\n",
              "      <td>17.837383</td>\n",
              "      <td>0.071933</td>\n",
              "      <td>0.015412</td>\n",
              "      <td>18.456806</td>\n",
              "      <td>18.456806</td>\n",
              "      <td>0.071903</td>\n",
              "      <td>0.014976</td>\n",
              "      <td>66</td>\n",
              "    </tr>\n",
              "    <tr>\n",
              "      <th>67</th>\n",
              "      <td>17.827318</td>\n",
              "      <td>17.827318</td>\n",
              "      <td>0.071780</td>\n",
              "      <td>0.015333</td>\n",
              "      <td>18.245377</td>\n",
              "      <td>18.245377</td>\n",
              "      <td>0.073971</td>\n",
              "      <td>0.016253</td>\n",
              "      <td>67</td>\n",
              "    </tr>\n",
              "    <tr>\n",
              "      <th>68</th>\n",
              "      <td>17.843328</td>\n",
              "      <td>17.843328</td>\n",
              "      <td>0.071894</td>\n",
              "      <td>0.015395</td>\n",
              "      <td>17.918411</td>\n",
              "      <td>17.918411</td>\n",
              "      <td>0.071786</td>\n",
              "      <td>0.015579</td>\n",
              "      <td>68</td>\n",
              "    </tr>\n",
              "    <tr>\n",
              "      <th>69</th>\n",
              "      <td>17.810619</td>\n",
              "      <td>17.810619</td>\n",
              "      <td>0.071769</td>\n",
              "      <td>0.015337</td>\n",
              "      <td>18.057129</td>\n",
              "      <td>18.057129</td>\n",
              "      <td>0.072829</td>\n",
              "      <td>0.016070</td>\n",
              "      <td>69</td>\n",
              "    </tr>\n",
              "  </tbody>\n",
              "</table>\n",
              "</div>\n",
              "      <button class=\"colab-df-convert\" onclick=\"convertToInteractive('df-c05efcc8-83dd-49e5-a0e8-00ee0347e165')\"\n",
              "              title=\"Convert this dataframe to an interactive table.\"\n",
              "              style=\"display:none;\">\n",
              "        \n",
              "  <svg xmlns=\"http://www.w3.org/2000/svg\" height=\"24px\"viewBox=\"0 0 24 24\"\n",
              "       width=\"24px\">\n",
              "    <path d=\"M0 0h24v24H0V0z\" fill=\"none\"/>\n",
              "    <path d=\"M18.56 5.44l.94 2.06.94-2.06 2.06-.94-2.06-.94-.94-2.06-.94 2.06-2.06.94zm-11 1L8.5 8.5l.94-2.06 2.06-.94-2.06-.94L8.5 2.5l-.94 2.06-2.06.94zm10 10l.94 2.06.94-2.06 2.06-.94-2.06-.94-.94-2.06-.94 2.06-2.06.94z\"/><path d=\"M17.41 7.96l-1.37-1.37c-.4-.4-.92-.59-1.43-.59-.52 0-1.04.2-1.43.59L10.3 9.45l-7.72 7.72c-.78.78-.78 2.05 0 2.83L4 21.41c.39.39.9.59 1.41.59.51 0 1.02-.2 1.41-.59l7.78-7.78 2.81-2.81c.8-.78.8-2.07 0-2.86zM5.41 20L4 18.59l7.72-7.72 1.47 1.35L5.41 20z\"/>\n",
              "  </svg>\n",
              "      </button>\n",
              "      \n",
              "  <style>\n",
              "    .colab-df-container {\n",
              "      display:flex;\n",
              "      flex-wrap:wrap;\n",
              "      gap: 12px;\n",
              "    }\n",
              "\n",
              "    .colab-df-convert {\n",
              "      background-color: #E8F0FE;\n",
              "      border: none;\n",
              "      border-radius: 50%;\n",
              "      cursor: pointer;\n",
              "      display: none;\n",
              "      fill: #1967D2;\n",
              "      height: 32px;\n",
              "      padding: 0 0 0 0;\n",
              "      width: 32px;\n",
              "    }\n",
              "\n",
              "    .colab-df-convert:hover {\n",
              "      background-color: #E2EBFA;\n",
              "      box-shadow: 0px 1px 2px rgba(60, 64, 67, 0.3), 0px 1px 3px 1px rgba(60, 64, 67, 0.15);\n",
              "      fill: #174EA6;\n",
              "    }\n",
              "\n",
              "    [theme=dark] .colab-df-convert {\n",
              "      background-color: #3B4455;\n",
              "      fill: #D2E3FC;\n",
              "    }\n",
              "\n",
              "    [theme=dark] .colab-df-convert:hover {\n",
              "      background-color: #434B5C;\n",
              "      box-shadow: 0px 1px 3px 1px rgba(0, 0, 0, 0.15);\n",
              "      filter: drop-shadow(0px 1px 2px rgba(0, 0, 0, 0.3));\n",
              "      fill: #FFFFFF;\n",
              "    }\n",
              "  </style>\n",
              "\n",
              "      <script>\n",
              "        const buttonEl =\n",
              "          document.querySelector('#df-c05efcc8-83dd-49e5-a0e8-00ee0347e165 button.colab-df-convert');\n",
              "        buttonEl.style.display =\n",
              "          google.colab.kernel.accessAllowed ? 'block' : 'none';\n",
              "\n",
              "        async function convertToInteractive(key) {\n",
              "          const element = document.querySelector('#df-c05efcc8-83dd-49e5-a0e8-00ee0347e165');\n",
              "          const dataTable =\n",
              "            await google.colab.kernel.invokeFunction('convertToInteractive',\n",
              "                                                     [key], {});\n",
              "          if (!dataTable) return;\n",
              "\n",
              "          const docLinkHtml = 'Like what you see? Visit the ' +\n",
              "            '<a target=\"_blank\" href=https://colab.research.google.com/notebooks/data_table.ipynb>data table notebook</a>'\n",
              "            + ' to learn more about interactive tables.';\n",
              "          element.innerHTML = '';\n",
              "          dataTable['output_type'] = 'display_data';\n",
              "          await google.colab.output.renderOutput(dataTable, element);\n",
              "          const docLink = document.createElement('div');\n",
              "          docLink.innerHTML = docLinkHtml;\n",
              "          element.appendChild(docLink);\n",
              "        }\n",
              "      </script>\n",
              "    </div>\n",
              "  </div>\n",
              "  "
            ],
            "text/plain": [
              "         loss       mape       mae       mse   val_loss   val_mape   val_mae  \\\n",
              "60  17.878422  17.878422  0.072072  0.015445  18.304565  18.304565  0.071317   \n",
              "61  17.881847  17.881847  0.071973  0.015410  18.416985  18.416985  0.073745   \n",
              "62  17.925987  17.925987  0.072157  0.015440  18.088467  18.088467  0.071042   \n",
              "63  17.869232  17.869232  0.072008  0.015447  18.427942  18.427942  0.073527   \n",
              "64  17.854488  17.854488  0.071926  0.015415  18.173820  18.173820  0.072495   \n",
              "65  17.826820  17.826820  0.071854  0.015379  19.432844  19.432844  0.077573   \n",
              "66  17.837383  17.837383  0.071933  0.015412  18.456806  18.456806  0.071903   \n",
              "67  17.827318  17.827318  0.071780  0.015333  18.245377  18.245377  0.073971   \n",
              "68  17.843328  17.843328  0.071894  0.015395  17.918411  17.918411  0.071786   \n",
              "69  17.810619  17.810619  0.071769  0.015337  18.057129  18.057129  0.072829   \n",
              "\n",
              "     val_mse  epoch  \n",
              "60  0.015011     60  \n",
              "61  0.016298     61  \n",
              "62  0.015152     62  \n",
              "63  0.015918     63  \n",
              "64  0.015641     64  \n",
              "65  0.015928     65  \n",
              "66  0.014976     66  \n",
              "67  0.016253     67  \n",
              "68  0.015579     68  \n",
              "69  0.016070     69  "
            ]
          },
          "execution_count": 61,
          "metadata": {},
          "output_type": "execute_result"
        }
      ],
      "source": [
        "hist = pd.DataFrame(history.history)\n",
        "hist['epoch'] = history.epoch\n",
        "hist.tail(10)"
      ]
    },
    {
      "cell_type": "code",
      "execution_count": null,
      "metadata": {
        "colab": {
          "base_uri": "https://localhost:8080/",
          "height": 545
        },
        "id": "7Yfyvuw_I4Zy",
        "outputId": "a67dc3b9-8650-407f-9559-168b9a7f451e"
      },
      "outputs": [
        {
          "data": {
            "image/png": "[encoded data removed]",
            "text/plain": [
              "<Figure size 432x288 with 1 Axes>"
            ]
          },
          "metadata": {},
          "output_type": "display_data"
        },
        {
          "data": {
            "image/png": "[encoded data removed]",
            "text/plain": [
              "<Figure size 432x288 with 1 Axes>"
            ]
          },
          "metadata": {},
          "output_type": "display_data"
        }
      ],
      "source": [
        "def plot_history(history):\n",
        "  hist = pd.DataFrame(history.history)\n",
        "  hist['epoch'] = history.epoch\n",
        "\n",
        "  plt.figure()\n",
        "  plt.xlabel('Epoch')\n",
        "  plt.ylabel('MAPE of $H_r$ [%]')\n",
        "  plt.plot(hist['epoch'], hist['mape'],\n",
        "           label='Train Error')\n",
        "  plt.plot(hist['epoch'], hist['val_mape'],\n",
        "           label = 'Val Error')\n",
        "  plt.ylim([16.,25.])\n",
        "  plt.legend()\n",
        "\n",
        "  plt.figure()\n",
        "  plt.xlabel('Epoch')\n",
        "  plt.ylabel('MAE of $H_r$ [-]')\n",
        "  plt.plot(hist['epoch'], hist['mae'],\n",
        "           label='Train Error')\n",
        "  plt.plot(hist['epoch'], hist['val_mae'],\n",
        "           label = 'Val Error')\n",
        "  plt.ylim([0.05, 0.15])\n",
        "  plt.legend()\n",
        "  plt.show()\n",
        "\n",
        "\n",
        "plot_history(history)"
      ]
    },
    {
      "cell_type": "code",
      "execution_count": null,
      "metadata": {
        "colab": {
          "base_uri": "https://localhost:8080/",
          "height": 283
        },
        "id": "AYlfIoYmI4Zz",
        "outputId": "39e59171-d3f6-436f-b7e7-7ebb78f4a459"
      },
      "outputs": [
        {
          "data": {
            "image/png": "[encoded data removed]",
            "text/plain": [
              "<Figure size 432x288 with 1 Axes>"
            ]
          },
          "metadata": {},
          "output_type": "display_data"
        }
      ],
      "source": [
        "test_predictions = model.predict(test_dataset).flatten()\n",
        "\n",
        "plt.scatter(test_labels, test_predictions, s=0.05, alpha=0.2)\n",
        "plt.xlabel('Actural Values of Hd [-]')\n",
        "plt.ylabel('Predictions of Hd [-]')\n",
        "plt.axis('equal')\n",
        "plt.axis('square')\n",
        "plt.xlim([0,1])\n",
        "plt.ylim([0,1])\n",
        "_ = plt.plot([-100, 100], [-100, 100])"
      ]
    },
    {
      "cell_type": "code",
      "execution_count": null,
      "metadata": {
        "colab": {
          "base_uri": "https://localhost:8080/",
          "height": 279
        },
        "id": "77rT4EcgI4Zz",
        "outputId": "f7ffd3d4-1f55-4c53-90e1-1d2935da0309"
      },
      "outputs": [
        {
          "data": {
            "image/png": "[encoded data removed]",
            "text/plain": [
              "<Figure size 432x288 with 1 Axes>"
            ]
          },
          "metadata": {},
          "output_type": "display_data"
        }
      ],
      "source": [
        "error = (test_predictions - test_labels)/test_labels*100\n",
        "plt.hist(error, bins = 200)\n",
        "plt.xlim([-50,50])\n",
        "plt.xlabel(\"Prediction Percentage Error [%]\")\n",
        "_ = plt.ylabel(\"Count\")"
      ]
    },
    {
      "cell_type": "markdown",
      "metadata": {
        "id": "f6cHW-jyI4Zz"
      },
      "source": [
        "### Export the model"
      ]
    },
    {
      "cell_type": "code",
      "execution_count": null,
      "metadata": {
        "id": "kqtAO7aRI4Zz"
      },
      "outputs": [],
      "source": [
        "# model.save('./drive/MyDrive/ML_model_CoLab-2/saved_model/model_hd_27-40')\n",
        "\n",
        "model.save('./drive/MyDrive/ML_model-3D_CoLab/saved_model/model_3Dhd_60-120.h5')"
      ]
    }
  ],
  "metadata": {
    "colab": {
      "collapsed_sections": [
        "gR9UCfpvCOM-",
        "vBTfhB_M8nZF",
        "0aSz52XnCOQW"
      ],
      "provenance": [],
      "authorship_tag": "ABX9TyMUq/QrncK3qpFK4owrK/rw",
      "include_colab_link": true
    },
    "kernelspec": {
      "display_name": "Python 3",
      "name": "python3"
    },
    "language_info": {
      "name": "python"
    }
  },
  "nbformat": 4,
  "nbformat_minor": 0
}